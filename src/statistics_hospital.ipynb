{
 "cells": [
  {
   "cell_type": "code",
   "execution_count": 75,
   "id": "c48b3d36",
   "metadata": {},
   "outputs": [],
   "source": [
    "db = \"hospital_ward\"\n",
    "name = \"/home/mehdi/Nextcloud/experiments/betweenness_discrete/shortest/\"+db+\".csv\"\n",
    "directed = False\n",
    "stri = [\"non-strict\",\"strict\"]\n",
    "be = [\"bet\", \"bet_exact\"]\n",
    "if directed:\n",
    "    path = name+\"_directed_exp\"\n",
    "else:\n",
    "    path = name+\"_undirected_exp\"\n",
    "path = path + \"_boost/\"\n",
    "cost_type = [[\"shortest\",\"passive\"], [\"shortest\",\"active\"]]\n",
    "app = [-1]"
   ]
  },
  {
   "cell_type": "code",
   "execution_count": 76,
   "id": "4ad8d8fb",
   "metadata": {},
   "outputs": [
    {
     "name": "stdout",
     "output_type": "stream",
     "text": [
      "75 9453\n"
     ]
    }
   ],
   "source": [
    "f = open(path+\"info_-1.txt\", \"r\")\n",
    "i = 0\n",
    "for x in f:\n",
    "    x = x[:-1]\n",
    "    res = x.split(\" \")\n",
    "    if i == 0:\n",
    "        n = int(res[-1])\n",
    "    if i == 1:\n",
    "        T = int(res[-1])\n",
    "    i = i + 1\n",
    "print(n,T)"
   ]
  },
  {
   "cell_type": "code",
   "execution_count": 77,
   "id": "e24c9c49",
   "metadata": {},
   "outputs": [],
   "source": [
    "res = dict()\n",
    "res_bet = dict()\n",
    "res_sum_node = dict()\n",
    "res_sum_time = dict()\n",
    "\n",
    "# res_sum_node = [0 for i in range(n)]\n",
    "# res_sum_time = [0 for i in range(T)]\n",
    "\n",
    "for b in be:\n",
    "    for st in stri:\n",
    "        for co in cost_type:\n",
    "            for ap in app:\n",
    "                f = open(path+b+\"_\"+st+\"_\"+co[0]+\"_\"+co[1]+\"_\"+str(ap)+\".txt\", \"r\")\n",
    "                if ap not in res:\n",
    "                    res[ap] = dict()\n",
    "                if ap not in res_bet:\n",
    "                    res_bet[ap] = dict()\n",
    "                if ap not in res_sum_node:\n",
    "                    res_sum_node[ap] = dict()\n",
    "                if ap not in res_sum_time:\n",
    "                    res_sum_time[ap] = dict()\n",
    "                    \n",
    "                if st not in res[ap]:\n",
    "                    res[ap][st] = dict()\n",
    "                if st not in res_bet[ap]:\n",
    "                    res_bet[ap][st] = dict()\n",
    "                if st not in res_sum_node[ap]:\n",
    "                    res_sum_node[ap][st] = dict()\n",
    "                if st not in res_sum_time[ap]:\n",
    "                    res_sum_time[ap][st] = dict()\n",
    "                    \n",
    "                if b not in res_bet[ap][st]:\n",
    "                    res_bet[ap][st][b] = dict()\n",
    "                res_bet[ap][st][b][co[0]+\"_\"+co[1]] = []\n",
    "                \n",
    "                if b not in res[ap][st]:\n",
    "                    res[ap][st][b] = dict()\n",
    "                    \n",
    "                if b not in res_sum_node[ap][st]:\n",
    "                    res_sum_node[ap][st][b] = dict()\n",
    "                if b not in res_sum_time[ap][st]:\n",
    "                    res_sum_time[ap][st][b] = dict()\n",
    "\n",
    "                if co[1] not in res[ap][st][b]:\n",
    "                    res[ap][st][b][co[1]] = dict()\n",
    "                if co[1] not in res_sum_node[ap][st][b]:\n",
    "                    res_sum_node[ap][st][b][co[1]] = dict()\n",
    "                if co[1] not in res_sum_time[ap][st][b]:\n",
    "                    res_sum_time[ap][st][b][co[1]] = dict()\n",
    "\n",
    "                res[ap][st][b][co[1]][co[0]] = []\n",
    "                \n",
    "                res_sum_time[ap][st][b][co[1]][co[0]] = [0 for i in range(T)]\n",
    "                res_sum_node[ap][st][b][co[1]][co[0]] = [0 for i in range(n)]\n",
    "\n",
    "                \n",
    "                \n",
    "                i = 0\n",
    "                for x in f:\n",
    "                    res_sum_node[ap][st][b][co[1]][co[0]][i//T] +=  float(x)\n",
    "                    res_sum_time[ap][st][b][co[1]][co[0]][i%T] += float(x)\n",
    "                    res[ap][st][b][co[1]][co[0]].append(float(x))\n",
    "                    res_bet[ap][st][b][co[0]+\"_\"+co[1]].append(float(x))\n",
    "                    i += 1"
   ]
  },
  {
   "cell_type": "code",
   "execution_count": 91,
   "id": "4a67ffdb",
   "metadata": {},
   "outputs": [],
   "source": [
    "f = open(path+\"staticBet.txt\", \"r\")\n",
    "stat = []\n",
    "bet_stat = []\n",
    "i = 0\n",
    "for x in f:\n",
    "    x = x[:-1]\n",
    "    stat.append([float(x),i])\n",
    "    bet_stat.append(float(x))\n",
    "    i = i + 1"
   ]
  },
  {
   "cell_type": "code",
   "execution_count": 79,
   "id": "c062a889",
   "metadata": {},
   "outputs": [
    {
     "data": {
      "text/plain": [
       "[[116.961, 0], [11.92, 1], [53.9125, 2], [61.9601, 3], [96.6822, 4]]"
      ]
     },
     "execution_count": 79,
     "metadata": {},
     "output_type": "execute_result"
    }
   ],
   "source": [
    "stat[:5]"
   ]
  },
  {
   "cell_type": "code",
   "execution_count": 80,
   "id": "0df17af5",
   "metadata": {},
   "outputs": [],
   "source": [
    "f = open(path+\"nodesIds.txt\", \"r\")\n",
    "id_to_node = dict()\n",
    "for x in f:\n",
    "    x = x[:-1]\n",
    "    res = x.split(\" \")\n",
    "    id_to_node[res[0]] = res[1]"
   ]
  },
  {
   "cell_type": "code",
   "execution_count": 81,
   "id": "a9dce904",
   "metadata": {},
   "outputs": [],
   "source": [
    "path_meta = \"/home/mehdi/code/code_temporal_betweenness_/src/examples/\"\n",
    "f = open(path_meta+\"metadata_\"+db+\".txt\", \"r\")\n",
    "node_to_cat = dict()\n",
    "for x in f:\n",
    "    x = x[:-1]\n",
    "    res = x.split(\"\\t\")\n",
    "    node_to_cat[res[0]] = res[3]\n",
    "    node_to_cat[res[1]] = res[4]"
   ]
  },
  {
   "cell_type": "code",
   "execution_count": 82,
   "id": "aba71c10",
   "metadata": {},
   "outputs": [],
   "source": [
    "max_elem_pas = [ [res_sum_node[-1][\"non-strict\"][\"bet_exact\"][\"passive\"][\"shortest\"][i],i] for i in range(0,len(res_sum_node[-1][\"non-strict\"][\"bet_exact\"][\"passive\"][\"shortest\"])) ]\n",
    "max_elem_pas.sort(reverse=True)"
   ]
  },
  {
   "cell_type": "code",
   "execution_count": 83,
   "id": "41ad0452",
   "metadata": {},
   "outputs": [],
   "source": [
    "max_elem_act = [ [res_sum_node[-1][\"non-strict\"][\"bet_exact\"][\"active\"][\"shortest\"][i],i] for i in range(0,len(res_sum_node[-1][\"non-strict\"][\"bet_exact\"][\"passive\"][\"shortest\"])) ]\n",
    "max_elem_act.sort(reverse=True)"
   ]
  },
  {
   "cell_type": "code",
   "execution_count": 84,
   "id": "87a03c7d",
   "metadata": {},
   "outputs": [],
   "source": [
    "# for x,y in max_elem:\n",
    "#     print(node_to_cat[(id_to_node[str(y)])],y)"
   ]
  },
  {
   "cell_type": "code",
   "execution_count": 85,
   "id": "81f134ac",
   "metadata": {},
   "outputs": [],
   "source": [
    "max_elem_stat = stat\n",
    "max_elem_stat.sort(reverse=True)"
   ]
  },
  {
   "cell_type": "code",
   "execution_count": 86,
   "id": "e9ceac1f",
   "metadata": {},
   "outputs": [
    {
     "name": "stdout",
     "output_type": "stream",
     "text": [
      "MED 0    NUR 15    ADM 11\n",
      "NUR 7    MED 0    NUR 15\n",
      "NUR 10    NUR 10    NUR 13\n",
      "NUR 15    NUR 7    NUR 10\n",
      "NUR 43    NUR 43    NUR 8\n",
      "MED 52    NUR 13    NUR 7\n",
      "NUR 45    NUR 45    NUR 45\n",
      "NUR 13    ADM 11    ADM 57\n",
      "MED 4    MED 4    NUR 26\n",
      "NUR 17    NUR 8    MED 0\n",
      "MED 2    NUR 53    NUR 43\n",
      "ADM 11    PAT 21    NUR 53\n",
      "NUR 12    MED 52    MED 4\n",
      "MED 3    MED 2    NUR 9\n",
      "NUR 20    NUR 12    PAT 21\n",
      "ADM 57    ADM 57    NUR 12\n",
      "MED 32    NUR 17    NUR 20\n",
      "NUR 53    MED 3    NUR 17\n",
      "NUR 66    NUR 20    MED 3\n",
      "NUR 8    NUR 9    NUR 54\n",
      "NUR 9    NUR 26    MED 52\n",
      "PAT 21    PAT 30    PAT 28\n",
      "PAT 30    PAT 37    MED 2\n",
      "MED 49    PAT 34    ADM 18\n",
      "NUR 54    MED 32    PAT 34\n",
      "NUR 26    PAT 28    NUR 16\n",
      "NUR 63    MED 49    PAT 37\n",
      "MED 33    NUR 63    MED 49\n",
      "PAT 28    NUR 66    NUR 46\n",
      "PAT 24    NUR 54    NUR 73\n",
      "NUR 73    MED 33    NUR 66\n",
      "PAT 37    NUR 73    NUR 27\n",
      "PAT 34    NUR 41    PAT 30\n",
      "NUR 65    NUR 46    NUR 41\n",
      "NUR 48    PAT 24    MED 33\n",
      "PAT 55    ADM 18    PAT 39\n",
      "NUR 41    MED 19    NUR 63\n",
      "MED 19    PAT 39    NUR 48\n",
      "PAT 62    NUR 65    MED 32\n",
      "ADM 18    NUR 48    MED 19\n",
      "NUR 46    PAT 62    PAT 23\n",
      "PAT 51    PAT 55    NUR 47\n",
      "PAT 58    PAT 51    PAT 24\n",
      "MED 59    NUR 16    PAT 58\n",
      "MED 5    NUR 27    MED 59\n",
      "PAT 39    MED 59    PAT 25\n",
      "PAT 23    PAT 58    ADM 1\n",
      "PAT 60    PAT 23    PAT 60\n",
      "NUR 16    PAT 25    PAT 35\n",
      "NUR 6    NUR 6    NUR 14\n",
      "NUR 27    PAT 56    PAT 55\n",
      "PAT 67    PAT 67    NUR 65\n",
      "PAT 56    ADM 68    NUR 6\n",
      "PAT 25    MED 5    NUR 40\n",
      "PAT 61    ADM 1    PAT 62\n",
      "PAT 71    PAT 60    PAT 51\n",
      "PAT 70    NUR 47    PAT 67\n",
      "PAT 64    PAT 61    PAT 56\n",
      "NUR 47    NUR 14    ADM 50\n",
      "ADM 1    PAT 70    PAT 29\n",
      "NUR 14    PAT 71    PAT 64\n",
      "PAT 29    PAT 64    PAT 61\n",
      "ADM 68    PAT 35    PAT 22\n",
      "PAT 35    PAT 38    PAT 70\n",
      "PAT 38    ADM 69    PAT 38\n",
      "ADM 50    PAT 29    ADM 68\n",
      "PAT 22    NUR 40    PAT 72\n",
      "PAT 72    ADM 50    PAT 71\n",
      "NUR 40    PAT 36    PAT 36\n",
      "ADM 69    PAT 72    MED 5\n",
      "PAT 36    PAT 22    ADM 69\n",
      "PAT 31    PAT 31    PAT 42\n",
      "PAT 44    PAT 44    PAT 44\n",
      "ADM 74    PAT 42    PAT 31\n",
      "PAT 42    ADM 74    ADM 74\n"
     ]
    }
   ],
   "source": [
    "for x,y,z in zip(max_elem_act,max_elem_pas,max_elem_stat):\n",
    "    print(node_to_cat[(id_to_node[str(x[1])])],x[1],\"  \",node_to_cat[(id_to_node[str(y[1])])],y[1],\"  \",node_to_cat[(id_to_node[str(z[1])])],z[1])"
   ]
  },
  {
   "cell_type": "code",
   "execution_count": 93,
   "id": "cc4bdca4",
   "metadata": {},
   "outputs": [],
   "source": [
    "import scipy.stats as stats\n",
    "tau1, p_value = stats.kendalltau(res_sum_node[-1][\"non-strict\"][\"bet_exact\"][\"active\"][\"shortest\"], res_sum_node[-1][\"non-strict\"][\"bet_exact\"][\"passive\"][\"shortest\"])\n",
    "tau2, p_value = stats.kendalltau(res_sum_node[-1][\"non-strict\"][\"bet_exact\"][\"active\"][\"shortest\"], bet_stat)\n",
    "tau3, p_value = stats.kendalltau(res_sum_node[-1][\"non-strict\"][\"bet_exact\"][\"passive\"][\"shortest\"], bet_stat)\n"
   ]
  },
  {
   "cell_type": "code",
   "execution_count": 94,
   "id": "5cb790cb",
   "metadata": {},
   "outputs": [
    {
     "name": "stdout",
     "output_type": "stream",
     "text": [
      "0.8760360360360361 0.7196396396396397 0.788828828828829\n"
     ]
    }
   ],
   "source": [
    "print(tau1,tau2,tau3)"
   ]
  },
  {
   "cell_type": "code",
   "execution_count": null,
   "id": "c6ed8bf8",
   "metadata": {},
   "outputs": [],
   "source": []
  }
 ],
 "metadata": {
  "kernelspec": {
   "display_name": "Python 3 (ipykernel)",
   "language": "python",
   "name": "python3"
  },
  "language_info": {
   "codemirror_mode": {
    "name": "ipython",
    "version": 3
   },
   "file_extension": ".py",
   "mimetype": "text/x-python",
   "name": "python",
   "nbconvert_exporter": "python",
   "pygments_lexer": "ipython3",
   "version": "3.10.6"
  }
 },
 "nbformat": 4,
 "nbformat_minor": 5
}
