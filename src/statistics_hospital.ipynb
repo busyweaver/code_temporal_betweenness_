{
 "cells": [
  {
   "cell_type": "code",
   "execution_count": 1,
   "id": "39567664",
   "metadata": {},
   "outputs": [],
   "source": [
    "deg_stat = dict()\n",
    "deg_temp = dict()\n",
    "f = open(\"/home/mehdi/code/code_temporal_betweenness_/src/examples/hospital_ward.csv\", \"r\")\n",
    "for x in f:\n",
    "    x = x[:-1]\n",
    "    res = x.split(\"\\t\")\n",
    "    u,v,t,_,_ = res\n",
    "    if u not in deg_stat:\n",
    "        deg_stat[u] = {v}\n",
    "    else:\n",
    "        deg_stat[u].add(v)\n",
    "    if v not in deg_stat:\n",
    "        deg_stat[v] = {u}\n",
    "    else:\n",
    "        deg_stat[v].add(u)\n",
    "        \n",
    "    if u not in deg_temp:\n",
    "        deg_temp[u] = {(v,t)}\n",
    "    else:\n",
    "        deg_temp[u].add((v,t))\n",
    "    if v not in deg_temp:\n",
    "        deg_temp[v] = {(u,t)}\n",
    "    else:\n",
    "        deg_temp[v].add((u,t))\n",
    "d_stat = dict()\n",
    "d_temp = dict()\n",
    "for e in deg_stat.keys():\n",
    "    d_stat[e] = len(deg_stat[e])\n",
    "    d_temp[e] = len(deg_temp[e])\n",
    "t_deg_stat = list( map( lambda x : [ d_stat[x],x ]  ,list(d_stat)) )\n",
    "t_deg_temp = list( map( lambda x : [ d_temp[x],x ]  ,list(d_temp)) )\n",
    "t_deg_stat.sort(reverse=True)\n",
    "t_deg_temp.sort(reverse=True)\n"
   ]
  },
  {
   "cell_type": "code",
   "execution_count": 2,
   "id": "c48b3d36",
   "metadata": {},
   "outputs": [],
   "source": [
    "db = \"hospital_ward\"\n",
    "name = \"/home/mehdi/Nextcloud/experiments/betweenness_discrete/shortest/\"+db+\".csv\"\n",
    "directed = False\n",
    "stri = [\"non-strict\",\"strict\"]\n",
    "be = [\"bet\", \"bet_exact\"]\n",
    "if directed:\n",
    "    path = name+\"_directed_exp\"\n",
    "else:\n",
    "    path = name+\"_undirected_exp\"\n",
    "path = path + \"_boost/\"\n",
    "cost_type = [[\"shortest\",\"passive\"], [\"shortest\",\"active\"]]\n",
    "app = [-1]"
   ]
  },
  {
   "cell_type": "code",
   "execution_count": 3,
   "id": "4ad8d8fb",
   "metadata": {},
   "outputs": [
    {
     "name": "stdout",
     "output_type": "stream",
     "text": [
      "75 9453\n"
     ]
    }
   ],
   "source": [
    "f = open(path+\"info_-1.txt\", \"r\")\n",
    "i = 0\n",
    "for x in f:\n",
    "    x = x[:-1]\n",
    "    res = x.split(\" \")\n",
    "    if i == 0:\n",
    "        n = int(res[-1])\n",
    "    if i == 1:\n",
    "        T = int(res[-1])\n",
    "    i = i + 1\n",
    "print(n,T)"
   ]
  },
  {
   "cell_type": "code",
   "execution_count": 4,
   "id": "e24c9c49",
   "metadata": {},
   "outputs": [],
   "source": [
    "res = dict()\n",
    "res_bet = dict()\n",
    "res_sum_node = dict()\n",
    "res_sum_time = dict()\n",
    "\n",
    "# res_sum_node = [0 for i in range(n)]\n",
    "# res_sum_time = [0 for i in range(T)]\n",
    "\n",
    "for b in be:\n",
    "    for st in stri:\n",
    "        for co in cost_type:\n",
    "            for ap in app:\n",
    "                f = open(path+b+\"_\"+st+\"_\"+co[0]+\"_\"+co[1]+\"_\"+str(ap)+\".txt\", \"r\")\n",
    "                if ap not in res:\n",
    "                    res[ap] = dict()\n",
    "                if ap not in res_bet:\n",
    "                    res_bet[ap] = dict()\n",
    "                if ap not in res_sum_node:\n",
    "                    res_sum_node[ap] = dict()\n",
    "                if ap not in res_sum_time:\n",
    "                    res_sum_time[ap] = dict()\n",
    "                    \n",
    "                if st not in res[ap]:\n",
    "                    res[ap][st] = dict()\n",
    "                if st not in res_bet[ap]:\n",
    "                    res_bet[ap][st] = dict()\n",
    "                if st not in res_sum_node[ap]:\n",
    "                    res_sum_node[ap][st] = dict()\n",
    "                if st not in res_sum_time[ap]:\n",
    "                    res_sum_time[ap][st] = dict()\n",
    "                    \n",
    "                if b not in res_bet[ap][st]:\n",
    "                    res_bet[ap][st][b] = dict()\n",
    "                res_bet[ap][st][b][co[0]+\"_\"+co[1]] = []\n",
    "                \n",
    "                if b not in res[ap][st]:\n",
    "                    res[ap][st][b] = dict()\n",
    "                    \n",
    "                if b not in res_sum_node[ap][st]:\n",
    "                    res_sum_node[ap][st][b] = dict()\n",
    "                if b not in res_sum_time[ap][st]:\n",
    "                    res_sum_time[ap][st][b] = dict()\n",
    "\n",
    "                if co[1] not in res[ap][st][b]:\n",
    "                    res[ap][st][b][co[1]] = dict()\n",
    "                if co[1] not in res_sum_node[ap][st][b]:\n",
    "                    res_sum_node[ap][st][b][co[1]] = dict()\n",
    "                if co[1] not in res_sum_time[ap][st][b]:\n",
    "                    res_sum_time[ap][st][b][co[1]] = dict()\n",
    "\n",
    "                res[ap][st][b][co[1]][co[0]] = []\n",
    "                \n",
    "                res_sum_time[ap][st][b][co[1]][co[0]] = [0 for i in range(T)]\n",
    "                res_sum_node[ap][st][b][co[1]][co[0]] = [0 for i in range(n)]\n",
    "\n",
    "                \n",
    "                \n",
    "                i = 0\n",
    "                for x in f:\n",
    "                    res_sum_node[ap][st][b][co[1]][co[0]][i//T] +=  float(x)\n",
    "                    res_sum_time[ap][st][b][co[1]][co[0]][i%T] += float(x)\n",
    "                    res[ap][st][b][co[1]][co[0]].append(float(x))\n",
    "                    res_bet[ap][st][b][co[0]+\"_\"+co[1]].append(float(x))\n",
    "                    i += 1"
   ]
  },
  {
   "cell_type": "code",
   "execution_count": 5,
   "id": "4a67ffdb",
   "metadata": {},
   "outputs": [],
   "source": [
    "f = open(path+\"staticBet.txt\", \"r\")\n",
    "stat = []\n",
    "bet_stat = []\n",
    "i = 0\n",
    "for x in f:\n",
    "    x = x[:-1]\n",
    "    stat.append([float(x),i])\n",
    "    bet_stat.append(float(x))\n",
    "    i = i + 1"
   ]
  },
  {
   "cell_type": "code",
   "execution_count": 6,
   "id": "c062a889",
   "metadata": {},
   "outputs": [
    {
     "data": {
      "text/plain": [
       "[[116.961, 0], [11.92, 1], [53.9125, 2], [61.9601, 3], [96.6822, 4]]"
      ]
     },
     "execution_count": 6,
     "metadata": {},
     "output_type": "execute_result"
    }
   ],
   "source": [
    "stat[:5]"
   ]
  },
  {
   "cell_type": "code",
   "execution_count": 7,
   "id": "0df17af5",
   "metadata": {},
   "outputs": [],
   "source": [
    "f = open(path+\"nodesIds.txt\", \"r\")\n",
    "id_to_node = dict()\n",
    "for x in f:\n",
    "    x = x[:-1]\n",
    "    res = x.split(\" \")\n",
    "    id_to_node[res[0]] = res[1]"
   ]
  },
  {
   "cell_type": "code",
   "execution_count": 8,
   "id": "a9dce904",
   "metadata": {},
   "outputs": [],
   "source": [
    "path_meta = \"/home/mehdi/code/code_temporal_betweenness_/src/examples/\"\n",
    "f = open(path_meta+\"metadata_\"+db+\".txt\", \"r\")\n",
    "node_to_cat = dict()\n",
    "for x in f:\n",
    "    x = x[:-1]\n",
    "    res = x.split(\"\\t\")\n",
    "    node_to_cat[res[0]] = res[3]\n",
    "    node_to_cat[res[1]] = res[4]"
   ]
  },
  {
   "cell_type": "code",
   "execution_count": 9,
   "id": "aba71c10",
   "metadata": {},
   "outputs": [],
   "source": [
    "max_elem_pas = [ [res_sum_node[-1][\"non-strict\"][\"bet_exact\"][\"passive\"][\"shortest\"][i],i] for i in range(0,len(res_sum_node[-1][\"non-strict\"][\"bet_exact\"][\"passive\"][\"shortest\"])) ]\n",
    "max_elem_pas.sort(reverse=True)"
   ]
  },
  {
   "cell_type": "code",
   "execution_count": 10,
   "id": "41ad0452",
   "metadata": {},
   "outputs": [],
   "source": [
    "max_elem_act = [ [res_sum_node[-1][\"non-strict\"][\"bet_exact\"][\"active\"][\"shortest\"][i],i] for i in range(0,len(res_sum_node[-1][\"non-strict\"][\"bet_exact\"][\"passive\"][\"shortest\"])) ]\n",
    "max_elem_act.sort(reverse=True)"
   ]
  },
  {
   "cell_type": "code",
   "execution_count": 11,
   "id": "87a03c7d",
   "metadata": {},
   "outputs": [],
   "source": [
    "# for x,y in max_elem:\n",
    "#     print(node_to_cat[(id_to_node[str(y)])],y)"
   ]
  },
  {
   "cell_type": "code",
   "execution_count": 12,
   "id": "81f134ac",
   "metadata": {},
   "outputs": [],
   "source": [
    "max_elem_stat = stat\n",
    "max_elem_stat.sort(reverse=True)"
   ]
  },
  {
   "cell_type": "code",
   "execution_count": 26,
   "id": "e9ceac1f",
   "metadata": {},
   "outputs": [
    {
     "name": "stdout",
     "output_type": "stream",
     "text": [
      "active      passive      static      deg_stat      deg_temp\n",
      "NUR 1193    NUR 1193    ADM 1098    ADM 1098    NUR 1115\n",
      "NUR 1115    MED 1157    NUR 1193    NUR 1193    NUR 1210\n",
      "MED 1157    NUR 1115    NUR 1164    NUR 1164    NUR 1295\n",
      "NUR 1295    NUR 1295    NUR 1115    NUR 1115    NUR 1207\n",
      "NUR 1164    NUR 1207    NUR 1109    NUR 1295    MED 1157\n",
      "ADM 1098    NUR 1164    NUR 1295    NUR 1210    NUR 1193\n",
      "NUR 1210    NUR 1210    NUR 1210    NUR 1109    NUR 1164\n",
      "MED 1144    ADM 1098    ADM 1658    MED 1157    MED 1221\n",
      "NUR 1109    MED 1144    NUR 1190    ADM 1658    MED 1144\n",
      "PAT 1365    NUR 1109    MED 1157    MED 1144    NUR 1149\n",
      "NUR 1207    NUR 1205    NUR 1207    NUR 1207    MED 1191\n",
      "NUR 1149    PAT 1365    NUR 1205    NUR 1205    NUR 1109\n",
      "NUR 1205    MED 1221    MED 1144    NUR 1190    MED 1159\n",
      "NUR 1181    MED 1191    NUR 1114    NUR 1149    NUR 1196\n",
      "NUR 1196    NUR 1181    PAT 1365    NUR 1196    ADM 1098\n",
      "PAT 1352    ADM 1658    NUR 1181    ADM 1179    NUR 1625\n",
      "MED 1221    NUR 1149    NUR 1196    NUR 1114    NUR 1114\n",
      "NUR 1190    MED 1159    NUR 1149    NUR 1202    MED 1260\n",
      "MED 1159    NUR 1196    MED 1159    NUR 1181    MED 1148\n",
      "PAT 1383    NUR 1114    NUR 1202    MED 1159    NUR 1181\n",
      "PAT 1391    NUR 1190    MED 1221    PAT 1365    ADM 1658\n",
      "NUR 1114    PAT 1352    PAT 1378    MED 1221    NUR 1190\n",
      "PAT 1378    PAT 1391    MED 1191    NUR 1142    PAT 1365\n",
      "ADM 1658    PAT 1383    ADM 1179    NUR 1245    NUR 1205\n",
      "MED 1191    MED 1130    PAT 1383    MED 1191    NUR 1629\n",
      "MED 1260    PAT 1378    NUR 1142    MED 1260    MED 1130\n",
      "MED 1130    MED 1260    PAT 1391    PAT 1378    PAT 1352\n",
      "NUR 1202    NUR 1625    MED 1260    PAT 1383    NUR 1245\n",
      "MED 1148    NUR 1485    NUR 1245    NUR 1108    PAT 1378\n",
      "MED 1168    NUR 1202    NUR 1629    PAT 1391    NUR 1202\n",
      "NUR 1108    MED 1148    NUR 1485    MED 1148    ADM 1179\n",
      "PAT 1307    NUR 1629    NUR 1261    NUR 1625    PAT 1383\n",
      "PAT 1374    NUR 1246    PAT 1352    MED 1130    PAT 1391\n",
      "NUR 1485    NUR 1245    NUR 1246    NUR 1629    PAT 1401\n",
      "PAT 1401    PAT 1374    MED 1148    PAT 1395    NUR 1485\n",
      "PAT 1362    ADM 1179    PAT 1395    ADM 1232    PAT 1702\n",
      "PAT 1363    MED 1168    NUR 1625    NUR 1100    NUR 1613\n",
      "ADM 1179    PAT 1395    NUR 1108    PAT 1702    PAT 1362\n",
      "PAT 1395    NUR 1613    MED 1130    NUR 1261    MED 1168\n",
      "NUR 1625    NUR 1108    MED 1168    NUR 1105    NUR 1108\n",
      "PAT 1702    PAT 1401    PAT 1363    PAT 1352    MED 1660\n",
      "NUR 1261    PAT 1362    NUR 1100    MED 1168    PAT 1393\n",
      "NUR 1245    PAT 1307    PAT 1374    ADM 1209    NUR 1105\n",
      "NUR 1142    NUR 1142    PAT 1702    PAT 1401    PAT 1374\n",
      "MED 1660    NUR 1261    MED 1660    PAT 1393    PAT 1307\n",
      "PAT 1393    MED 1660    PAT 1393    PAT 1374    PAT 1395\n",
      "NUR 1105    PAT 1702    ADM 1232    PAT 1362    PAT 1701\n",
      "PAT 1385    PAT 1363    PAT 1769    MED 1660    ADM 1671\n",
      "MED 1152    PAT 1393    PAT 1327    NUR 1485    NUR 1100\n",
      "NUR 1629    NUR 1105    NUR 1116    PAT 1327    PAT 1547\n",
      "PAT 1769    PAT 1385    PAT 1362    PAT 1307    NUR 1142\n",
      "NUR 1100    PAT 1460    NUR 1613    PAT 1769    PAT 1363\n",
      "ADM 1232    ADM 1535    NUR 1105    PAT 1460    MED 1152\n",
      "PAT 1416    MED 1152    NUR 1238    PAT 1385    NUR 1246\n",
      "PAT 1701    ADM 1232    PAT 1401    PAT 1363    NUR 1261\n",
      "PAT 1460    PAT 1769    PAT 1307    PAT 1320    PAT 1769\n",
      "PAT 1469    NUR 1100    PAT 1460    NUR 1116    PAT 1460\n",
      "PAT 1327    PAT 1701    PAT 1385    PAT 1701    PAT 1469\n",
      "ADM 1209    NUR 1116    ADM 1209    NUR 1613    ADM 1232\n",
      "NUR 1613    PAT 1469    PAT 1305    PAT 1416    ADM 1209\n",
      "NUR 1246    PAT 1547    PAT 1416    NUR 1246    PAT 1327\n",
      "NUR 1116    PAT 1416    PAT 1701    PAT 1469    PAT 1385\n",
      "ADM 1525    PAT 1327    PAT 1320    PAT 1547    PAT 1320\n",
      "PAT 1547    PAT 1399    PAT 1469    NUR 1238    NUR 1238\n",
      "PAT 1320    ADM 1525    PAT 1399    MED 1152    PAT 1416\n",
      "PAT 1305    PAT 1305    ADM 1535    PAT 1377    NUR 1116\n",
      "PAT 1399    NUR 1238    PAT 1784    PAT 1305    PAT 1377\n",
      "ADM 1535    ADM 1209    PAT 1547    PAT 1784    PAT 1399\n",
      "PAT 1373    PAT 1323    PAT 1323    ADM 1671    PAT 1323\n",
      "PAT 1784    PAT 1784    MED 1152    PAT 1399    PAT 1305\n",
      "PAT 1323    PAT 1320    ADM 1525    PAT 1373    PAT 1784\n",
      "PAT 1377    PAT 1377    PAT 1332    PAT 1323    PAT 1373\n",
      "NUR 1238    PAT 1373    PAT 1373    ADM 1535    PAT 1332\n",
      "PAT 1332    PAT 1332    PAT 1377    PAT 1332    ADM 1535\n",
      "ADM 1671    ADM 1671    ADM 1671    ADM 1525    ADM 1525\n"
     ]
    }
   ],
   "source": [
    "print(\"active      passive      static      deg_stat      deg_temp\")\n",
    "for x,y,z,r,t in zip(max_elem_act,max_elem_pas,max_elem_stat,t_deg_stat,t_deg_temp):\n",
    "    print(node_to_cat[(id_to_node[str(x[1])])],id_to_node[str(x[1])],\"  \",\n",
    "          node_to_cat[(id_to_node[str(y[1])])],id_to_node[str(y[1])],\"  \",\n",
    "          node_to_cat[(id_to_node[str(z[1])])],id_to_node[str(z[1])],\"  \",\n",
    "          node_to_cat[r[1]],r[1],\"  \",\n",
    "         node_to_cat[t[1]],t[1])"
   ]
  },
  {
   "cell_type": "code",
   "execution_count": 27,
   "id": "cc4bdca4",
   "metadata": {},
   "outputs": [],
   "source": [
    "import scipy.stats as stats\n",
    "tau1, p_value = stats.kendalltau(res_sum_node[-1][\"non-strict\"][\"bet_exact\"][\"active\"][\"shortest\"], res_sum_node[-1][\"non-strict\"][\"bet_exact\"][\"passive\"][\"shortest\"])\n",
    "tau2, p_value = stats.kendalltau(res_sum_node[-1][\"non-strict\"][\"bet_exact\"][\"active\"][\"shortest\"], bet_stat)\n",
    "tau3, p_value = stats.kendalltau(res_sum_node[-1][\"non-strict\"][\"bet_exact\"][\"passive\"][\"shortest\"], bet_stat)\n",
    "# tau4, p_value = stats.kendalltau(, bet_stat)\n"
   ]
  },
  {
   "cell_type": "code",
   "execution_count": 28,
   "id": "5cb790cb",
   "metadata": {},
   "outputs": [
    {
     "name": "stdout",
     "output_type": "stream",
     "text": [
      "0.8421621621621623 0.7535135135135136 0.788828828828829\n"
     ]
    }
   ],
   "source": [
    "print(tau1,tau2,tau3)"
   ]
  },
  {
   "cell_type": "code",
   "execution_count": 32,
   "id": "c6ed8bf8",
   "metadata": {},
   "outputs": [
    {
     "data": {
      "text/plain": [
       "{'0': '1157',\n",
       " '1': '1232',\n",
       " '2': '1191',\n",
       " '3': '1159',\n",
       " '4': '1144',\n",
       " '5': '1152',\n",
       " '6': '1105',\n",
       " '7': '1295',\n",
       " '8': '1109',\n",
       " '9': '1114',\n",
       " '10': '1115',\n",
       " '11': '1098',\n",
       " '12': '1181',\n",
       " '13': '1164',\n",
       " '14': '1116',\n",
       " '15': '1193',\n",
       " '16': '1142',\n",
       " '17': '1149',\n",
       " '18': '1179',\n",
       " '19': '1168',\n",
       " '20': '1196',\n",
       " '21': '1365',\n",
       " '22': '1320',\n",
       " '23': '1363',\n",
       " '24': '1374',\n",
       " '25': '1393',\n",
       " '26': '1190',\n",
       " '27': '1261',\n",
       " '28': '1378',\n",
       " '29': '1305',\n",
       " '30': '1352',\n",
       " '31': '1377',\n",
       " '32': '1130',\n",
       " '33': '1148',\n",
       " '34': '1383',\n",
       " '35': '1327',\n",
       " '36': '1323',\n",
       " '37': '1391',\n",
       " '38': '1399',\n",
       " '39': '1395',\n",
       " '40': '1238',\n",
       " '41': '1246',\n",
       " '42': '1332',\n",
       " '43': '1207',\n",
       " '44': '1373',\n",
       " '45': '1210',\n",
       " '46': '1245',\n",
       " '47': '1100',\n",
       " '48': '1108',\n",
       " '49': '1260',\n",
       " '50': '1209',\n",
       " '51': '1307',\n",
       " '52': '1221',\n",
       " '53': '1205',\n",
       " '54': '1202',\n",
       " '55': '1362',\n",
       " '56': '1385',\n",
       " '57': '1658',\n",
       " '58': '1702',\n",
       " '59': '1660',\n",
       " '60': '1769',\n",
       " '61': '1701',\n",
       " '62': '1401',\n",
       " '63': '1625',\n",
       " '64': '1416',\n",
       " '65': '1613',\n",
       " '66': '1485',\n",
       " '67': '1460',\n",
       " '68': '1535',\n",
       " '69': '1525',\n",
       " '70': '1469',\n",
       " '71': '1547',\n",
       " '72': '1784',\n",
       " '73': '1629',\n",
       " '74': '1671'}"
      ]
     },
     "execution_count": 32,
     "metadata": {},
     "output_type": "execute_result"
    }
   ],
   "source": [
    "id_to_node"
   ]
  },
  {
   "cell_type": "code",
   "execution_count": null,
   "id": "22572ad6",
   "metadata": {},
   "outputs": [],
   "source": []
  }
 ],
 "metadata": {
  "kernelspec": {
   "display_name": "Python 3 (ipykernel)",
   "language": "python",
   "name": "python3"
  },
  "language_info": {
   "codemirror_mode": {
    "name": "ipython",
    "version": 3
   },
   "file_extension": ".py",
   "mimetype": "text/x-python",
   "name": "python",
   "nbconvert_exporter": "python",
   "pygments_lexer": "ipython3",
   "version": "3.10.12"
  }
 },
 "nbformat": 4,
 "nbformat_minor": 5
}
