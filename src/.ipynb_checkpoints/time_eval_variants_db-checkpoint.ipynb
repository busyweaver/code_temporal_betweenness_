{
 "cells": [
  {
   "cell_type": "code",
   "execution_count": null,
   "id": "91715de0",
   "metadata": {},
   "outputs": [],
   "source": [
    "import operator\n",
    "import math\n",
    "cost_type = [[\"shortest\",\"passive\"],[\"shortestfastest\",\"passive\"]]\n",
    "names = [ [\"bison_dire\", True, \"crimson\",\"bis\"] , [\"cattle_dire\", True, \"green\",\"cat\"] , [\"employees\", False, \"red\",\"emp\"], [\"primate\",False, \"blue\",\"pri\"], [\"racoon\", False, \"brown\",\"rac\"], [\"sheep_dire\",True,\"olive\",\"she\"], [\"weaver\", False, \"pink\",\"wea\"]]"
   ]
  },
  {
   "cell_type": "code",
   "execution_count": null,
   "id": "45ed842c",
   "metadata": {},
   "outputs": [],
   "source": [
    "import subprocess\n",
    "import time\n",
    "from pathlib import Path\n",
    "import os\n",
    "fold =\"time_computation/\" \n",
    "Path(fold).mkdir(parents=True, exist_ok=True)\n",
    "which=[\"dij\", \"bell\", \"bfs\"]\n",
    "path = \"../build.build/\"\n",
    "path_fold = \"databases/\"\n",
    "names.reverse()\n",
    "d = { e[0] : { tuple(c):{ w:0 for w in which  }  for c in cost_type  }  for e in names   }\n",
    "for e in names:\n",
    "    print(e)\n",
    "    for c in cost_type:    \n",
    "        for w in which:\n",
    "            current = e[0]+\"_\"+c[0]+\"_\"+c[1]+\"_\"+w\n",
    "            if not os.path.isfile(fold+current):\n",
    "                st = time.time()\n",
    "                if w == \"dij\":\n",
    "                    subprocess.run([path+\"btwBenchmark\", \"-f\", path_fold+e[0]+\".csv\",\"-c\",c[0],\"-y\",c[1], \"-o\" ]) \n",
    "                elif w == \"bell\":\n",
    "                    subprocess.run([path+\"btwBenchmark\", \"-f\", path_fold+e[0]+\".csv\",\"-c\",c[0],\"-y\",c[1], \"-o\", \"-z\" ])\n",
    "                else:\n",
    "                    subprocess.run([path+\"btwBenchmark\", \"-f\", path_fold+e[0]+\".csv\",\"-c\",c[0],\"-y\",c[1], \"-b\" ]) \n",
    "                ed = time.time()\n",
    "                tot = (ed - st)\n",
    "                d[e[0]][tuple(c)][w] = tot\n",
    "                with open(fold+current,\"w\") as f:\n",
    "                    f.write(str(tot))\n",
    "            else:\n",
    "                print(\"already here\")"
   ]
  },
  {
   "cell_type": "code",
   "execution_count": null,
   "id": "4063b1ce",
   "metadata": {},
   "outputs": [],
   "source": [
    "import pickle\n",
    "\n",
    "def save_dic(d,s):\n",
    "    with open(s+'.pickle', 'wb') as handle:\n",
    "        pickle.dump(d, handle, protocol=pickle.HIGHEST_PROTOCOL)"
   ]
  },
  {
   "cell_type": "code",
   "execution_count": null,
   "id": "e0eaf2cc",
   "metadata": {},
   "outputs": [],
   "source": [
    "save_dic(d,\"time_comput\")"
   ]
  },
  {
   "cell_type": "code",
   "execution_count": null,
   "id": "b58b2bac",
   "metadata": {},
   "outputs": [],
   "source": []
  }
 ],
 "metadata": {
  "kernelspec": {
   "display_name": "SageMath 9.5",
   "language": "sage",
   "name": "sagemath"
  },
  "language_info": {
   "codemirror_mode": {
    "name": "ipython",
    "version": 3
   },
   "file_extension": ".py",
   "mimetype": "text/x-python",
   "name": "python",
   "nbconvert_exporter": "python",
   "pygments_lexer": "ipython3",
   "version": "3.10.12"
  }
 },
 "nbformat": 4,
 "nbformat_minor": 5
}
