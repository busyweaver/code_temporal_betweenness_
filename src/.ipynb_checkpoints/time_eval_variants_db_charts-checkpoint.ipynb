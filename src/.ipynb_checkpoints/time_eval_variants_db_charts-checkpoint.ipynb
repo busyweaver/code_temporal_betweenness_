{
 "cells": [
  {
   "cell_type": "code",
   "execution_count": 172,
   "id": "91715de0",
   "metadata": {},
   "outputs": [],
   "source": [
    "import operator\n",
    "import math\n",
    "cost_type = [[\"shortest\",\"passive\"],[\"shortestfastest\",\"passive\"]]\n",
    "names = [ [\"bison_dire\", True, \"crimson\",\"bis\"] , [\"cattle_dire\", True, \"green\",\"cat\"] , [\"primate\",False, \"blue\",\"pri\"], [\"racoon\", False, \"brown\",\"rac\"], [\"sheep_dire\",True,\"olive\",\"she\"], [\"weaver\", False, \"pink\",\"wea\"], [\"employees\", False, \"red\",\"emp\"], [\"voles\", False, \"black\", \"vol\"]]\n",
    "#names = [[\"employees\", False, \"red\",\"emp\"], [\"voles\", False, \"black\", \"vol\"]]\n",
    "which=[\"bell\", \"dij\", \"bfs\"]"
   ]
  },
  {
   "cell_type": "code",
   "execution_count": 173,
   "id": "f22b35d3",
   "metadata": {},
   "outputs": [],
   "source": [
    "def nb_edges(s):\n",
    "    with open(s, 'r') as fp:\n",
    "        for count, line in enumerate(fp):\n",
    "            pass\n",
    "    return count\n",
    "def nb_nodes(s):\n",
    "    nodes = set()\n",
    "    sep = -1\n",
    "    with open(s, 'r') as file_data: \n",
    "        for line in file_data:\n",
    "#             print(\"line\", line)\n",
    "            if sep == -1:\n",
    "                for e in line:\n",
    "#                     print(\"e\",e)\n",
    "                    if not (ord(e) >= ord('0') and ord(e) <= ord('9')):\n",
    "                        sep = e\n",
    "                        break\n",
    "#             print(\"sep\", sep)\n",
    "            line = line[:-1]\n",
    "            data = line.split(e)\n",
    "#             print(\"data\", data) \n",
    "            nodes.add(data[0])\n",
    "            nodes.add(data[1])\n",
    "    return len(nodes)\n",
    "def nb_time_events(s):\n",
    "    ev = set()\n",
    "    sep = -1\n",
    "    with open(s, 'r') as file_data: \n",
    "        for line in file_data:\n",
    "#             print(\"line\", line)\n",
    "            if sep == -1:\n",
    "                for e in line:\n",
    "#                     print(\"e\",e)\n",
    "                    if not (ord(e) >= ord('0') and ord(e) <= ord('9')):\n",
    "                        sep = e\n",
    "                        break\n",
    "#             print(\"sep\", sep)\n",
    "            line = line[:-1]\n",
    "            data = line.split(e)\n",
    "#             print(\"data\", data) \n",
    "            ev.add(data[2])\n",
    "    return len(ev)\n",
    "    "
   ]
  },
  {
   "cell_type": "code",
   "execution_count": 174,
   "id": "48885a4d",
   "metadata": {},
   "outputs": [
    {
     "name": "stdout",
     "output_type": "stream",
     "text": [
      "[[26, 'bison_dire', True, 'crimson', 'bis'], [28, 'cattle_dire', True, 'green', 'cat'], [25, 'primate', False, 'blue', 'pri'], [24, 'racoon', False, 'brown', 'rac'], [28, 'sheep_dire', True, 'olive', 'she'], [445, 'weaver', False, 'pink', 'wea'], [151, 'employees', False, 'red', 'emp'], [1686, 'voles', False, 'black', 'vol']]\n",
      "[['voles', False, 'black', 'vol'], ['weaver', False, 'pink', 'wea'], ['employees', False, 'red', 'emp'], ['sheep_dire', True, 'olive', 'she'], ['cattle_dire', True, 'green', 'cat'], ['bison_dire', True, 'crimson', 'bis'], ['primate', False, 'blue', 'pri'], ['racoon', False, 'brown', 'rac']]\n",
      "voles & $ 1686 $ & $ 63 $ & $ 5323 $\n",
      "weaver & $ 445 $ & $ 23 $ & $ 1425 $\n",
      "employees & $ 151 $ & $ 16067 $ & $ 50571 $\n",
      "sheep_dire & $ 28 $ & $ 12 $ & $ 249 $\n",
      "cattle_dire & $ 28 $ & $ 10 $ & $ 216 $\n",
      "bison_dire & $ 26 $ & $ 14 $ & $ 313 $\n",
      "primate & $ 25 $ & $ 19 $ & $ 1339 $\n",
      "racoon & $ 24 $ & $ 52 $ & $ 1996 $\n"
     ]
    }
   ],
   "source": [
    "fold_d = \"databases/\"\n",
    "for i in range(len(names)):\n",
    "    cur = fold_d + names[i][0]+\".csv\"\n",
    "#     print(names[i][0], nb_nodes(cur),nb_time_events(cur),nb_edges(cur))\n",
    "    count = nb_nodes(cur)\n",
    "    names[i].insert(0,count)\n",
    "print(names)\n",
    "names.sort(reverse = True)\n",
    "names = [ names[i][1:] for i in range(len(names))  ]\n",
    "print(names)\n",
    "for i in range(len(names)):\n",
    "    cur = fold_d + names[i][0]+\".csv\"\n",
    "    print(names[i][0], \"& $\", nb_nodes(cur), \"$ & $\", nb_time_events(cur), \"$ & $\" ,nb_edges(cur), \"$\")"
   ]
  },
  {
   "cell_type": "code",
   "execution_count": 175,
   "id": "476b6ddf",
   "metadata": {},
   "outputs": [],
   "source": [
    "fold = \"time_computation/\""
   ]
  },
  {
   "cell_type": "code",
   "execution_count": 178,
   "id": "cc62335d",
   "metadata": {},
   "outputs": [],
   "source": [
    "import os.path\n",
    "import numpy\n",
    "d = { e[0] : { tuple(c):{ w:numpy.Infinity  for w in which  }  for c in cost_type  }  for e in names   }\n",
    "for e in names:\n",
    "    for c in cost_type:\n",
    "        for w in which:\n",
    "            current = current = e[0]+\".csv\"+\"_\"+c[0]+\"_\"+c[1]+\"_\"+w\n",
    "            if os.path.isfile(fold+current):\n",
    "                with open(fold+current,\"r\") as f:\n",
    "                    d[e[0]][tuple(c)][w] = float(f.read()[:5])"
   ]
  },
  {
   "cell_type": "code",
   "execution_count": 180,
   "id": "aad74152",
   "metadata": {},
   "outputs": [
    {
     "name": "stdout",
     "output_type": "stream",
     "text": [
      "{'bell': (inf, 6919.0, inf, 0.338, 0.17, 0.568, 16.45, 161.4), 'dij': (28.99, 0.197, 617.2, 0.016, 0.01, 0.022, 0.121, 0.454), 'bfs': (2.478, 0.008, 135.8, 0.001, 0.0, 0.001, 0.026, 0.083)}\n"
     ]
    },
    {
     "data": {
      "text/plain": [
       "<Figure size 1600x800 with 0 Axes>"
      ]
     },
     "metadata": {},
     "output_type": "display_data"
    },
    {
     "data": {
      "image/png": "[encoded data removed]",
      "text/plain": [
       "<Figure size 432x288 with 1 Axes>"
      ]
     },
     "metadata": {
      "needs_background": "light"
     },
     "output_type": "display_data"
    }
   ],
   "source": [
    "import matplotlib.pyplot as plt\n",
    "import numpy as np\n",
    "from matplotlib.pyplot import figure\n",
    "\n",
    "figure(figsize=(20, 10), dpi=80)\n",
    "#reaplces species with names\n",
    "c = [\"shortest\",\"passive\"]\n",
    "#replace penguin_means with val\n",
    "which=[\"bell\", \"dij\",  \"bfs\"]\n",
    "val = {\n",
    "    w: tuple( (d[e[0]][tuple(c)][w]) for e in names) for w in which\n",
    "}\n",
    "print(val)\n",
    "\n",
    "x = np.arange(len(names))  # the label locations\n",
    "width = 0.25  # the width of the bars\n",
    "multiplier = 0\n",
    "\n",
    "fig, ax = plt.subplots(layout='constrained')\n",
    "\n",
    "for attribute, measurement in val.items():\n",
    "    offset = width * multiplier\n",
    "    rects = ax.bar(x + offset, measurement, width, label=attribute)\n",
    "    ax.bar_label(rects, padding=3)\n",
    "    multiplier += 1\n",
    "\n",
    "# Add some text for labels, title and custom x-axis tick labels, etc.\n",
    "ax.set_ylabel('Time in sec')\n",
    "ax.set_yscale('log')\n",
    "ax.set_title('variants by databases')\n",
    "ax.set_xticks(x + width, list(map(lambda x : x[-1], names)) )\n",
    "ax.legend(loc='upper right')\n",
    "# ax.set_ylim(0, 7)\n",
    "plt.savefig('sh_db.png', dpi=300)\n",
    "\n",
    "plt.show()"
   ]
  },
  {
   "cell_type": "code",
   "execution_count": null,
   "id": "17f6834a",
   "metadata": {},
   "outputs": [],
   "source": []
  },
  {
   "cell_type": "code",
   "execution_count": 181,
   "id": "e78a4315",
   "metadata": {},
   "outputs": [
    {
     "name": "stdout",
     "output_type": "stream",
     "text": [
      "{'bell': (inf, 6895.0, inf, 0.34, 0.171, 0.531, 12.84, 130.2), 'dij': (31.39, 0.194, 5432.0, 0.017, 0.008, 0.019, 0.094, 0.736)}\n"
     ]
    },
    {
     "data": {
      "image/png": "[encoded data removed]",
      "text/plain": [
       "<Figure size 432x288 with 1 Axes>"
      ]
     },
     "metadata": {
      "needs_background": "light"
     },
     "output_type": "display_data"
    }
   ],
   "source": [
    "import matplotlib.pyplot as plt\n",
    "import numpy as np\n",
    "#reaplces species with names\n",
    "c = [\"shortestfastest\",\"passive\"]\n",
    "#replace penguin_means with val\n",
    "which = [\"bell\",\"dij\"]\n",
    "val = {\n",
    "    w: tuple(d[e[0]][tuple(c)][w] for e in names) for w in which\n",
    "}\n",
    "print(val)\n",
    "\n",
    "x = np.arange(len(names))  # the label locations\n",
    "width = 0.25  # the width of the bars\n",
    "multiplier = 0\n",
    "\n",
    "fig, ax = plt.subplots(layout='constrained')\n",
    "\n",
    "for attribute, measurement in val.items():\n",
    "    offset = width * multiplier\n",
    "    rects = ax.bar(x + offset, measurement, width, label=attribute)\n",
    "    ax.bar_label(rects, padding=3)\n",
    "    multiplier += 1\n",
    "\n",
    "# Add some text for labels, title and custom x-axis tick labels, etc.\n",
    "ax.set_ylabel('Time in sec')\n",
    "ax.set_yscale('log')\n",
    "ax.set_title('variants by databases')\n",
    "ax.set_xticks(x + width, list(map(lambda x : x[-1], names)) )\n",
    "ax.legend(loc='upper right')\n",
    "# ax.set_ylim(0, 7)\n",
    "plt.savefig('shf_db.png', dpi=300)\n",
    "\n",
    "plt.show()"
   ]
  },
  {
   "cell_type": "code",
   "execution_count": null,
   "id": "76633cfd",
   "metadata": {},
   "outputs": [],
   "source": []
  }
 ],
 "metadata": {
  "kernelspec": {
   "display_name": "Python 3 (ipykernel)",
   "language": "python",
   "name": "python3"
  },
  "language_info": {
   "codemirror_mode": {
    "name": "ipython",
    "version": 3
   },
   "file_extension": ".py",
   "mimetype": "text/x-python",
   "name": "python",
   "nbconvert_exporter": "python",
   "pygments_lexer": "ipython3",
   "version": "3.10.12"
  }
 },
 "nbformat": 4,
 "nbformat_minor": 5
}
