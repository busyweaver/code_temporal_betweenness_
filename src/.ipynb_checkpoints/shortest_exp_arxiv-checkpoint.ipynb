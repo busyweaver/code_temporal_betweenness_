{
 "cells": [
  {
   "cell_type": "code",
   "execution_count": 155,
   "id": "c48b3d36",
   "metadata": {},
   "outputs": [],
   "source": [
    "cost_type = [[\"shortest\",\"passive\"], [\"shortest\",\"active\"],[\"shortestrestless\",\"passive\"], [\"shortestrestless\",\"active\"],[\"shortestforemost\",\"passive\"]]\n",
    "cost_type_cut = [['sh', 'pas'], ['sh', 'act'],['sh-rl', 'pas'], ['sh-rl', 'act'], ['sh-fm', 'pas']]\n",
    "stri = [\"non-strict\"]\n",
    "# path = \"/home/mehdi/Nextcloud/experiments/betweenness_discrete/shortest/\"\n",
    "# names = [[\"primaryschool\",False,\"green\"],[\"highschool_2012\",False,\"blue\"], [\"highschool_2011\",False,\"orange\"], [\"hospital_ward\",False,\"black\"], [\"workplace_2013\",False,\"red\"], [\"ht09\",False,\"brown\"]]\n",
    "# names_cut = []\n",
    "path = \"/home/mehdi/code/code_temporal_betweenness_/src/examples/\"\n",
    "names = [ [\"erdos_1\", False, \"green\"] , [\"erdos_4\", False, \"red\"] ]\n",
    "be = [\"bet_exact\"]\n",
    "names_cut = [\"er1\",\"er4\"]\n",
    "app = [-1]\n",
    "percent = [10,20,30,40,50,60,70,80,90,-1]"
   ]
  },
  {
   "cell_type": "code",
   "execution_count": 156,
   "id": "5a127d8a",
   "metadata": {},
   "outputs": [],
   "source": [
    "def charact(path,st,cost_type,percent):\n",
    "#     print(path+\"info_\"+ st + \"_\" + cost_type[0] + \"_\" + cost_type[1] + \"_\" + \"-1_\" +str(percent)+\".txt\")\n",
    "    f = open(path+\"info_\"+ st + \"_\" + cost_type[0] + \"_\" + cost_type[1] + \"_\" + \"-1_\" +str(percent)+\".txt\", \"r\")\n",
    "    i = 0\n",
    "    for x in f:\n",
    "        x = x[:-1]\n",
    "        res = x.split(\" \")\n",
    "        if i == 0:\n",
    "            n = int(res[-1])\n",
    "        if i == 1:\n",
    "            T = int(res[-1])\n",
    "        if i == 2:\n",
    "            m = int(res[-1])\n",
    "        if i == 3:\n",
    "            sm = int(res[-1])\n",
    "        i = i + 1\n",
    "    return (n,T,m,sm, str(res[-1])[:6])"
   ]
  },
  {
   "cell_type": "code",
   "execution_count": 159,
   "id": "101079bc",
   "metadata": {},
   "outputs": [],
   "source": [
    "def info_time(path,st,cost_type,percent,ff):\n",
    "    try:\n",
    "        f = open(path+\"info_\"+ st + \"_\" + cost_type[0] + \"_\" + cost_type[1] + \"_\" + \"-1_\" +str(percent)+\".txt\", \"r\")\n",
    "    except IOError:\n",
    "        ff.write('& $-1$ ')\n",
    "        return\n",
    "    \n",
    "    i = 0\n",
    "    bob = True\n",
    "    for x in f:\n",
    "        x = x[:-1]\n",
    "        res = x.split(\" \")\n",
    "        # the mess in the conditions is due to ordering lines in file experiments\n",
    "        if (i == 4) and res[0][:4]==\"buss\" and cost_type[0]==\"shortest\":\n",
    "            ff.write(\" & $\"+str(res[-1])[:6]+\"$ \")\n",
    "        if i==4 and res[0][:4]!=\"buss\":\n",
    "            bob = False\n",
    "            ff.write(\" & $\"+str(res[-1])[:6]+\"$ \")\n",
    "        elif i==5 and bob:\n",
    "            ff.write(\" & $\"+str(res[-1])[:6]+\"$ \")\n",
    "            \n",
    "        i += 1\n",
    "        \n",
    "ff = open(\"time_table.tex\",\"w\")    \n",
    "ff.write(\"dataset & nodes & events & edges & agg_edges & Buss & sh act & sh pas  & sh-rl act & sh-rl pas & sh-fm pas  & static \\\\\\\\ \\n\")\n",
    "#only for non strict\n",
    "\n",
    "for i in range(len(names)):\n",
    "    name,dire,col = names[i]\n",
    "    if dire:\n",
    "        path_db = path + name + \".csv_\" + \"directed\" + \"_exp_boost/\"\n",
    "    else:\n",
    "        path_db = path + name + \".csv_\" + \"undirected\" + \"_exp_boost/\"\n",
    "    ff.write(names_cut[i]+\" \")\n",
    "    for j in range(len(cost_type)):\n",
    "        if j == 0:\n",
    "            n, T, m, sm, stat = charact(path_db,\"non-strict\",cost_type[j],-1)\n",
    "            ff.write(\"& $\"+str(n)+\"$ & $\"+str(T)+\"$ & $\"+ str(m)+\"$ & $\"+str(sm)+\"$\")\n",
    "        info_time(path_db,\"non-strict\",cost_type[j],-1,ff)\n",
    "    ff.write(\"& $\"+stat+\"$ \\\\\\\\\"+\"\\n\")\n",
    "ff.close()"
   ]
  },
  {
   "cell_type": "code",
   "execution_count": 160,
   "id": "bf3e51ed",
   "metadata": {},
   "outputs": [],
   "source": [
    "def bet_statique(path):\n",
    "    f = open(path+\"staticBet.txt\", \"r\")\n",
    "    stat = []\n",
    "    bet_stat = []\n",
    "    i = 0\n",
    "    for x in f:\n",
    "        x = x[:-1]\n",
    "        stat.append([float(x),i])\n",
    "        bet_stat.append(float(x))\n",
    "        i = i + 1\n",
    "    return bet_stat"
   ]
  },
  {
   "cell_type": "code",
   "execution_count": 171,
   "id": "e24c9c49",
   "metadata": {},
   "outputs": [],
   "source": [
    "def res_dic(path, be,stri,cost_type,app,T,precenttime):\n",
    "    res = dict()\n",
    "    res_bet = dict()\n",
    "    res_sum_node = dict()\n",
    "    res_sum_time = dict()\n",
    "\n",
    "    for b in be:\n",
    "        for st in stri:\n",
    "            for co in cost_type:\n",
    "                for ap in app:\n",
    "                    for per in precenttime:\n",
    "                        try:\n",
    "                            f = open(path+b+\"_\"+st+\"_\"+co[0]+\"_\"+co[1]+\"_\"+str(ap)+\"_\"+str(per)+\".txt\", \"r\")\n",
    "                            if ap not in res:\n",
    "                                res[ap] = dict()\n",
    "                            if ap not in res_bet:\n",
    "                                res_bet[ap] = dict()\n",
    "                            if ap not in res_sum_node:\n",
    "                                res_sum_node[ap] = dict()\n",
    "                            if ap not in res_sum_time:\n",
    "                                res_sum_time[ap] = dict()\n",
    "\n",
    "                            if per not in res[ap]:\n",
    "                                res[ap][per] = dict()\n",
    "                            if per not in res_bet[ap]:\n",
    "                                res_bet[ap][per] = dict()\n",
    "                            if per not in res_sum_node[ap]:\n",
    "                                res_sum_node[ap][per] = dict()\n",
    "                            if per not in res_sum_time[ap]:\n",
    "                                res_sum_time[ap][per] = dict()\n",
    "\n",
    "                            if st not in res[ap][per]:\n",
    "                                res[ap][per][st] = dict()\n",
    "                            if st not in res_bet[ap][per]:\n",
    "                                res_bet[ap][per][st] = dict()\n",
    "                            if st not in res_sum_node[ap][per]:\n",
    "                                res_sum_node[ap][per][st] = dict()\n",
    "                            if st not in res_sum_time[ap][per]:\n",
    "                                res_sum_time[ap][per][st] = dict()\n",
    "\n",
    "                            if b not in res_bet[ap][per][st]:\n",
    "                                res_bet[ap][per][st][b] = dict()\n",
    "                            res_bet[ap][per][st][b][co[0]+\"_\"+co[1]] = []\n",
    "\n",
    "                            if b not in res[ap][per][st]:\n",
    "                                res[ap][per][st][b] = dict()\n",
    "\n",
    "                            if b not in res_sum_node[ap][per][st]:\n",
    "                                res_sum_node[ap][per][st][b] = dict()\n",
    "                            if b not in res_sum_time[ap][per][st]:\n",
    "                                res_sum_time[ap][per][st][b] = dict()\n",
    "\n",
    "                            if co[1] not in res[ap][per][st][b]:\n",
    "                                res[ap][per][st][b][co[1]] = dict()\n",
    "                            if co[1] not in res_sum_node[ap][per][st][b]:\n",
    "                                res_sum_node[ap][per][st][b][co[1]] = dict()\n",
    "                            if co[1] not in res_sum_time[ap][per][st][b]:\n",
    "                                res_sum_time[ap][per][st][b][co[1]] = dict()\n",
    "\n",
    "                            res[ap][per][st][b][co[1]][co[0]] = []\n",
    "\n",
    "                            res_sum_time[ap][per][st][b][co[1]][co[0]] = [0 for i in range(T)]\n",
    "                            res_sum_node[ap][per][st][b][co[1]][co[0]] = [0 for i in range(n)]\n",
    "\n",
    "\n",
    "\n",
    "                            i = 0\n",
    "                            for x in f:\n",
    "                                res_sum_node[ap][per][st][b][co[1]][co[0]][i//T] +=  float(x)\n",
    "                                res_sum_time[ap][per][st][b][co[1]][co[0]][i%T] += float(x)\n",
    "    #                             res[ap][per][st][b][co[1]][co[0]].append(float(x))\n",
    "    #                             res_bet[ap][per][st][b][co[0]+\"_\"+co[1]].append(float(x))\n",
    "                                i += 1\n",
    "                        except IOError:\n",
    "                            print('not found')\n",
    "    return (res_sum_node,res_sum_time)"
   ]
  },
  {
   "cell_type": "code",
   "execution_count": 191,
   "id": "868bb973",
   "metadata": {},
   "outputs": [],
   "source": [
    "import scipy.stats as stats\n",
    "import matplotlib.pyplot as plt\n",
    "\n",
    "def check(res,i,j,stri,cost0,cost1):\n",
    "    if (i in res and j in res[i] and stri in res[i][j] and \"bet_exact\" in res[i][j][stri] and cost1 in res[i][j][stri][\"bet_exact\"] and cost0 in res[i][j][stri][\"bet_exact\"][cost1]):\n",
    "        return True\n",
    "    else:\n",
    "        return False\n",
    "    \n",
    "\n",
    "def inter_10(res_sum_node,per,co):\n",
    "    res = []\n",
    "    for j in per:\n",
    "        if check(res_sum_node,-1,-1,\"non-strict\",co[0],co[1]) and check(res_sum_node,-1,j,\"non-strict\",co[0],co[1]):\n",
    "            r = zip(res_sum_node[-1][-1][\"non-strict\"][\"bet_exact\"][co[1]][co[0]], [i for i in range(len(res_sum_node[-1][-1][\"non-strict\"][\"bet_exact\"][co[1]][co[0]]))])\n",
    "            r2 = zip(res_sum_node[-1][j][\"non-strict\"][\"bet_exact\"][co[1]][co[0]], [i for i in range(len(res_sum_node[-1][j][\"non-strict\"][\"bet_exact\"][co[1]][co[0]]))])\n",
    "\n",
    "            l = list(r)\n",
    "            l2 = list(r2)\n",
    "\n",
    "            l.sort(reverse=True)\n",
    "            l2.sort(reverse=True)\n",
    "\n",
    "            nb = 10\n",
    "            s = set(list(map(lambda x : x[1] ,l[:nb])))\n",
    "            s2 = set(list(map(lambda x : x[1] ,l2[:nb])))\n",
    "            res.append(len(s.intersection(s2))/nb  )\n",
    "#         else:\n",
    "#             res.append(-1)\n",
    "    return res\n",
    "    \n",
    "\n",
    "def kendallrankTime(res_sum_node,per,co):\n",
    "    res = []\n",
    "    for j in per:\n",
    "        if (-1 in res_sum_node and -1 in res_sum_node[-1] and \"non-strict\" in res_sum_node[-1][-1] and \"bet_exact\" in res_sum_node[-1][-1][\"non-strict\"] and co[1] in res_sum_node[-1][-1][\"non-strict\"][\"bet_exact\"] and co[0] in res_sum_node[-1][-1][\"non-strict\"][\"bet_exact\"][co[1]]) and  (-1 in res_sum_node and j in res_sum_node[-1] and \"non-strict\" in res_sum_node[-1][j] and \"bet_exact\" in res_sum_node[-1][j][\"non-strict\"] and co[1] in res_sum_node[-1][j][\"non-strict\"][\"bet_exact\"] and co[0] in res_sum_node[-1][j][\"non-strict\"][\"bet_exact\"][co[1]]):\n",
    "#         print(\"i\",i)\n",
    "#         print(co)\n",
    "#         print(res_sum_node[-1][-1][\"non-strict\"][\"bet_exact\"][co[1]].keys(),res_sum_node[-1][i][\"non-strict\"][\"bet_exact\"][co[1]].keys())\n",
    "            tau, p_value = stats.kendalltau(res_sum_node[-1][-1][\"non-strict\"][\"bet_exact\"][co[1]][co[0]], res_sum_node[-1][j][\"non-strict\"][\"bet_exact\"][co[1]][co[0]])\n",
    "            res.append(tau)\n",
    "#         else:\n",
    "#             res.append(-2)\n",
    "        \n",
    "    return res"
   ]
  },
  {
   "cell_type": "code",
   "execution_count": 192,
   "id": "cda55bc7",
   "metadata": {},
   "outputs": [
    {
     "name": "stdout",
     "output_type": "stream",
     "text": [
      "not found\n",
      "not found\n"
     ]
    }
   ],
   "source": [
    "cor = []\n",
    "cor2 = []\n",
    "for i in range(len(names)):\n",
    "    name,dire,col = names[i]\n",
    "    if dire:\n",
    "        path_db = path + name + \".csv_\" + \"directed\" + \"_exp_boost/\"\n",
    "    else:\n",
    "        path_db = path + name + \".csv_\" + \"undirected\" + \"_exp_boost/\"\n",
    "    res = []\n",
    "    res2 = []\n",
    "    n, T, m, sm, stat = charact(path_db,stri[0],cost_type[0],-1)\n",
    "    res_sum_node,res_sum_time = res_dic(path_db,be,stri,cost_type,app,T,percent)\n",
    "    for co in cost_type:\n",
    "        l = kendallrankTime(res_sum_node,percent,co)\n",
    "        l = [0] + l\n",
    "        res.append(l)\n",
    "        \n",
    "        l2 = inter_10(res_sum_node,percent,co)\n",
    "        l2 = [0] + l2\n",
    "        res2.append(l2)\n",
    "    cor.append(res)\n",
    "    cor2.append(res2)"
   ]
  },
  {
   "cell_type": "code",
   "execution_count": 193,
   "id": "998812f8",
   "metadata": {},
   "outputs": [
    {
     "data": {
      "text/plain": [
       "5"
      ]
     },
     "execution_count": 193,
     "metadata": {},
     "output_type": "execute_result"
    }
   ],
   "source": [
    "len(cor[0])"
   ]
  },
  {
   "cell_type": "code",
   "execution_count": 194,
   "id": "964ca1c0",
   "metadata": {},
   "outputs": [
    {
     "name": "stderr",
     "output_type": "stream",
     "text": [
      "/tmp/ipykernel_367544/2663715680.py:23: UserWarning: Matplotlib is currently using module://matplotlib_inline.backend_inline, which is a non-GUI backend, so cannot show the figure.\n",
      "  fig.show()\n"
     ]
    },
    {
     "data": {
      "image/png": "[encoded data removed]",
      "text/plain": [
       "<Figure size 864x360 with 10 Axes>"
      ]
     },
     "metadata": {
      "needs_background": "light"
     },
     "output_type": "display_data"
    }
   ],
   "source": [
    "from matplotlib.pyplot import figure\n",
    "import numpy as np\n",
    "import matplotlib.pyplot as plt\n",
    "fig, axs = plt.subplots(len(cost_type), len(names))\n",
    "for i in range(len(names)):\n",
    "    for j in range(len(cost_type)):\n",
    "        axs[j, i].plot([0 + 10*ii for ii in range(len(cor[i][j]))],cor[i][j], alpha=0.5, color = names[i][2])\n",
    "        if j == 0 and i == 0:\n",
    "            axs[j,i].set(xlabel='', title=names_cut[i],ylabel = cost_type_cut[j][0]+\"_\"+cost_type_cut[j][1])\n",
    "        elif j == 0 and i != 0:\n",
    "            axs[j,i].set(xlabel='', title=names_cut[i])\n",
    "        elif j!= 0 and i == 0:\n",
    "            axs[j,i].set(xlabel='',ylabel = cost_type_cut[j][0]+\"_\"+cost_type_cut[j][1])\n",
    "        else:\n",
    "            axs[j,i].set(xlabel='')\n",
    "        axs[j,i].yaxis.set_label_coords(-0.3,0.5)\n",
    "        axs[j,i].xaxis.set_label_coords(0.5,-0.02)\n",
    "        axs[j,i].set_xticks([0,20,40,60,80,100], labels=[0,0.2,0.4,0.6,0.8,1])\n",
    "        axs[j,i].set_yticks([0,0.2,0.4,0.6,0.8,1],labels=[0,0.2,0.4,0.6,0.8,1])\n",
    "\n",
    "fig.set_size_inches(12, 5)\n",
    "fig.savefig(\"pred_time.png\")\n",
    "fig.show()\n"
   ]
  },
  {
   "cell_type": "code",
   "execution_count": 195,
   "id": "c2438182",
   "metadata": {},
   "outputs": [
    {
     "name": "stderr",
     "output_type": "stream",
     "text": [
      "/tmp/ipykernel_367544/2420582651.py:23: UserWarning: Matplotlib is currently using module://matplotlib_inline.backend_inline, which is a non-GUI backend, so cannot show the figure.\n",
      "  fig.show()\n"
     ]
    },
    {
     "data": {
      "image/png": "[encoded data removed]",
      "text/plain": [
       "<Figure size 864x360 with 10 Axes>"
      ]
     },
     "metadata": {
      "needs_background": "light"
     },
     "output_type": "display_data"
    }
   ],
   "source": [
    "from matplotlib.pyplot import figure\n",
    "import numpy as np\n",
    "import matplotlib.pyplot as plt\n",
    "fig, axs = plt.subplots(len(cost_type), len(names))\n",
    "for i in range(len(names)):\n",
    "    for j in range(len(cost_type)):\n",
    "        axs[j, i].plot([0 + 10*ii for ii in range(len(cor[i][j]))],cor2[i][j], alpha=0.5, color = names[i][2])\n",
    "        if j == 0 and i == 0:\n",
    "            axs[j,i].set(xlabel='', title=names_cut[i],ylabel = cost_type_cut[j][0]+\"_\"+cost_type_cut[j][1])\n",
    "        elif j == 0 and i != 0:\n",
    "            axs[j,i].set(xlabel='', title=names_cut[i])\n",
    "        elif j!= 0 and i == 0:\n",
    "            axs[j,i].set(xlabel='',ylabel = cost_type_cut[j][0]+\"_\"+cost_type_cut[j][1])\n",
    "        else:\n",
    "            axs[j,i].set(xlabel='')\n",
    "        axs[j,i].yaxis.set_label_coords(-0.3,0.5)\n",
    "        axs[j,i].xaxis.set_label_coords(0.5,-0.02)\n",
    "        axs[j,i].set_xticks([0,20,40,60,80,100], labels=[0,0.2,0.4,0.6,0.8,1])\n",
    "        axs[j,i].set_yticks([0,0.2,0.4,0.6,0.8,1],labels=[0,2,4,6,8,10])\n",
    "\n",
    "fig.set_size_inches(12, 5)\n",
    "fig.savefig(\"pred_inter_time.png\")\n",
    "fig.show()\n"
   ]
  },
  {
   "cell_type": "code",
   "execution_count": null,
   "id": "9a649184",
   "metadata": {},
   "outputs": [],
   "source": []
  },
  {
   "cell_type": "code",
   "execution_count": 214,
   "id": "07e71bbe",
   "metadata": {},
   "outputs": [],
   "source": [
    "import scipy.stats as stats\n",
    "import numpy as np\n",
    "\n",
    "import matplotlib.pyplot as plt\n",
    "def max_int(res_sum_node,bet_stat):\n",
    "    if check(res_sum_node,-1,-1,\"non-strict\",\"shortest\",\"active\"):\n",
    "        r = zip(res_sum_node[-1][-1][\"non-strict\"][\"bet_exact\"][\"active\"][\"shortest\"], [i for i in range(len(res_sum_node[-1][-1][\"non-strict\"][\"bet_exact\"][\"active\"][\"shortest\"]))])\n",
    "    else:\n",
    "        r = []\n",
    "    if check(res_sum_node,-1,-1,\"non-strict\",\"shortest\",\"passive\"):\n",
    "        r2 = zip(res_sum_node[-1][-1][\"non-strict\"][\"bet_exact\"][\"passive\"][\"shortest\"], [i for i in range(len(res_sum_node[-1][-1][\"non-strict\"][\"bet_exact\"][\"passive\"][\"shortest\"]))])\n",
    "    else:\n",
    "        r2 = []\n",
    "    \n",
    "    r3 = zip(bet_stat, [i for i in range(len(bet_stat))])\n",
    "    \n",
    "    if check(res_sum_node,-1,-1,\"non-strict\",\"shortestrestless\",\"passive\"):\n",
    "        r4 = zip(res_sum_node[-1][-1][\"non-strict\"][\"bet_exact\"][\"passive\"][\"shortestrestless\"], [i for i in range(len(res_sum_node[-1][-1][\"non-strict\"][\"bet_exact\"][\"passive\"][\"shortestrestless\"]))])\n",
    "    else:\n",
    "        r4 = []\n",
    "    if check(res_sum_node,-1,-1,\"non-strict\",\"shortestrestless\",\"active\"):\n",
    "        r5 = zip(res_sum_node[-1][-1][\"non-strict\"][\"bet_exact\"][\"active\"][\"shortestrestless\"], [i for i in range(len(res_sum_node[-1][-1][\"non-strict\"][\"bet_exact\"][\"active\"][\"shortestrestless\"]))])\n",
    "    else:\n",
    "        r5 = []\n",
    "    if check(res_sum_node,-1,-1,\"non-strict\",\"shortestforemost\",\"passive\"):\n",
    "        r6 = zip(res_sum_node[-1][-1][\"non-strict\"][\"bet_exact\"][\"passive\"][\"shortestforemost\"], [i for i in range(len(res_sum_node[-1][-1][\"non-strict\"][\"bet_exact\"][\"passive\"][\"shortestforemost\"]))])\n",
    "    else:\n",
    "        r6 = []\n",
    "\n",
    "    l = list(r)\n",
    "    l2 = list(r2)\n",
    "    l3 = list(r3)\n",
    "    l4 = list(r4)\n",
    "    l5 = list(r5)\n",
    "    l6 = list(r6)\n",
    "    \n",
    "    l.sort(reverse=True)\n",
    "    l2.sort(reverse=True)\n",
    "    l3.sort(reverse=True)\n",
    "    l4.sort(reverse=True)\n",
    "    l5.sort(reverse=True)\n",
    "    l6.sort(reverse=True)\n",
    "\n",
    "    nb = 10\n",
    "    s = set(list(map(lambda x : x[1] ,l[:nb])))\n",
    "    s2 = set(list(map(lambda x : x[1] ,l2[:nb])))\n",
    "    s3 = set(list(map(lambda x : x[1] ,l3[:nb])))\n",
    "    s4 = set(list(map(lambda x : x[1] ,l4[:nb])))\n",
    "    s5 = set(list(map(lambda x : x[1] ,l5[:nb])))\n",
    "    s6 = set(list(map(lambda x : x[1] ,l6[:nb])))\n",
    "    \n",
    "    res = []\n",
    "    if (len(s) == 0 or len(s5) == 0):\n",
    "        res.append(np.nan)\n",
    "    else:\n",
    "        res.append(len(s5.intersection(s))/nb)\n",
    "    if (len(s4) == 0 or len(s2) == 0):\n",
    "        res.append(np.nan)\n",
    "    else:\n",
    "        res.append(len(s4.intersection(s2))/nb)\n",
    "    if (len(s) == 0 or len(s2) == 0):\n",
    "        res.append(np.nan)\n",
    "    else:\n",
    "        res.append(len(s2.intersection(s))/nb)\n",
    "    if (len(s) == 0 or len(s3) == 0):\n",
    "        res.append(np.nan)\n",
    "    else:\n",
    "        res.append(len(s3.intersection(s))/nb)\n",
    "    if (len(s2) == 0 or len(s3) == 0):\n",
    "        res.append(np.nan)\n",
    "    else:\n",
    "        res.append(len(s2.intersection(s3))/nb)\n",
    "    if (len(s6) == 0 or len(s3) == 0):\n",
    "        res.append(np.nan)\n",
    "    else:\n",
    "        res.append(len(s6.intersection(s3))/nb)\n",
    "\n",
    "    return res\n",
    "def kendallrank(res_sum_node,bet_stat):\n",
    "    if check(res_sum_node,-1,-1,\"non-strict\",\"shortestrestless\",\"active\") and check(res_sum_node,-1,-1,\"non-strict\",\"shortest\",\"active\"):\n",
    "        tau1, p_value = stats.kendalltau(res_sum_node[-1][-1][\"non-strict\"][\"bet_exact\"][\"active\"][\"shortestrestless\"], res_sum_node[-1][-1][\"non-strict\"][\"bet_exact\"][\"active\"][\"shortest\"])\n",
    "    else:\n",
    "        tau1 = np.nan\n",
    "    if check(res_sum_node,-1,-1,\"non-strict\",\"shortestrestless\",\"passive\") and check(res_sum_node,-1,-1,\"non-strict\",\"shortest\",\"passive\"):\n",
    "        tau2, p_value = stats.kendalltau(res_sum_node[-1][-1][\"non-strict\"][\"bet_exact\"][\"passive\"][\"shortestrestless\"], res_sum_node[-1][-1][\"non-strict\"][\"bet_exact\"][\"passive\"][\"shortest\"])\n",
    "    else:\n",
    "        tau2 = np.nan\n",
    "        \n",
    "    if check(res_sum_node,-1,-1,\"non-strict\",\"shortestrestless\",\"passive\"):\n",
    "        tau3, p_value = stats.kendalltau(res_sum_node[-1][-1][\"non-strict\"][\"bet_exact\"][\"passive\"][\"shortestrestless\"], bet_stat)\n",
    "\n",
    "    if check(res_sum_node,-1,-1,\"non-strict\",\"shortest\",\"active\") and check(res_sum_node,-1,-1,\"non-strict\",\"shortest\",\"passive\"):\n",
    "        tau4, p_value = stats.kendalltau(res_sum_node[-1][-1][\"non-strict\"][\"bet_exact\"][\"active\"][\"shortest\"], res_sum_node[-1][-1][\"non-strict\"][\"bet_exact\"][\"passive\"][\"shortest\"])\n",
    "    else:\n",
    "        tau4 = np.nan\n",
    "    if check(res_sum_node,-1,-1,\"non-strict\",\"shortest\",\"active\"):\n",
    "        tau5, p_value = stats.kendalltau(res_sum_node[-1][-1][\"non-strict\"][\"bet_exact\"][\"active\"][\"shortest\"], bet_stat)\n",
    "    else:\n",
    "        tau5 = np.nan\n",
    "    if check(res_sum_node,-1,-1,\"non-strict\",\"shortest\",\"passive\"):\n",
    "        tau6, p_value = stats.kendalltau(res_sum_node[-1][-1][\"non-strict\"][\"bet_exact\"][\"passive\"][\"shortest\"], bet_stat)\n",
    "    else:\n",
    "        tau6 = np.nan\n",
    "    if check(res_sum_node,-1,-1,\"non-strict\",\"shortestforemost\",\"passive\"):\n",
    "        tau7, p_value = stats.kendalltau(res_sum_node[-1][-1][\"non-strict\"][\"bet_exact\"][\"passive\"][\"shortestforemost\"], bet_stat)\n",
    "    else:\n",
    "        tau7 = np.nan\n",
    "\n",
    "    return [tau1, tau2, tau4, tau5, tau6, tau7]"
   ]
  },
  {
   "cell_type": "code",
   "execution_count": 215,
   "id": "d6f26a26",
   "metadata": {},
   "outputs": [
    {
     "name": "stdout",
     "output_type": "stream",
     "text": [
      "not found\n",
      "not found\n"
     ]
    }
   ],
   "source": [
    "cor = []\n",
    "maxx = []\n",
    "for i in range(len(names)):\n",
    "    name,dire,col = names[i]\n",
    "    if dire:\n",
    "        path_db = path + name + \".csv_\" + \"directed\" + \"_exp_boost/\"\n",
    "    else:\n",
    "        path_db = path + name + \".csv_\" + \"undirected\" + \"_exp_boost/\"\n",
    "        \n",
    "    n, T, m, sm, stat = charact(path_db,stri[0],cost_type[0],-1)\n",
    "    res_sum_node,res_sum_time = res_dic(path_db,be,stri,cost_type,app,T,percent)\n",
    "        \n",
    "    bet_stat = bet_statique(path_db)\n",
    "    l = kendallrank(res_sum_node,bet_stat)\n",
    "    cor.append(l)\n",
    "    l = max_int(res_sum_node,bet_stat)\n",
    "    maxx.append(l)"
   ]
  },
  {
   "cell_type": "code",
   "execution_count": 216,
   "id": "fe8fa786",
   "metadata": {},
   "outputs": [
    {
     "data": {
      "image/png": "[encoded data removed]",
      "text/plain": [
       "<Figure size 432x288 with 1 Axes>"
      ]
     },
     "metadata": {
      "needs_background": "light"
     },
     "output_type": "display_data"
    }
   ],
   "source": [
    "bet_comp = [ \"sh-rl_act/act \",\"sh-rl_pas/pas\", \"act/pas\", \"act/stat\", \"pas/stat\",\"sh-fm/stat\"]\n",
    "import seaborn as sns\n",
    "import pandas as pd\n",
    "from pylab import savefig\n",
    "\n",
    "cor_mat = np.matrix(cor)\n",
    "transp = cor_mat.transpose()\n",
    "\n",
    "df = pd.DataFrame.from_dict( data=transp)\n",
    "df.index = bet_comp\n",
    "df.columns = list(map(lambda x : x, names_cut))\n",
    "f, ax = plt.subplots(figsize=(6, 4))\n",
    "# corr = df.corr()\n",
    "svm = sns.heatmap(df,\n",
    "    cmap=sns.diverging_palette(220, 20, as_cmap=True),\n",
    "    vmin=0, vmax=1.0,\n",
    "    square=True, ax=ax, cbar=False, cbar_kws={\"shrink\": 0.5}, annot=transp)\n",
    "figure = svm.get_figure()  \n",
    "plt.xticks(fontsize=10) \n",
    "plt.yticks(fontsize=10) \n",
    "\n",
    "figure.savefig('heat_short_node.png', dpi=400,bbox_inches='tight')\n",
    "figure.tight_layout()"
   ]
  },
  {
   "cell_type": "code",
   "execution_count": 217,
   "id": "c93d2274",
   "metadata": {},
   "outputs": [
    {
     "data": {
      "image/png": "[encoded data removed]",
      "text/plain": [
       "<Figure size 432x288 with 2 Axes>"
      ]
     },
     "metadata": {
      "needs_background": "light"
     },
     "output_type": "display_data"
    }
   ],
   "source": [
    "import numpy as np\n",
    "import seaborn as sns\n",
    "import pandas as pd\n",
    "from pylab import savefig\n",
    "\n",
    "maxx_mat = np.matrix(maxx)\n",
    "transp = maxx_mat.transpose()\n",
    "\n",
    "df = pd.DataFrame.from_dict( data=transp)\n",
    "df.index = bet_comp\n",
    "df.columns = list(map(lambda x : x, names_cut))\n",
    "f, ax = plt.subplots(figsize=(6, 4))\n",
    "# corr = df.corr()\n",
    "svm = sns.heatmap(df, cmap=sns.diverging_palette(220, 20, as_cmap=True),\n",
    "    vmin=0, vmax=1.0,\n",
    "    square=True, ax=ax, cbar_kws={\"shrink\": 0.5}, annot=transp)\n",
    "svm.set_yticks([])\n",
    "figure = svm.get_figure()  \n",
    "plt.xticks(fontsize=10) \n",
    "plt.yticks(fontsize=10) \n",
    "\n",
    "figure.savefig('heat_short_node_inter.png', dpi=400,bbox_inches='tight')\n",
    "figure.tight_layout()"
   ]
  },
  {
   "cell_type": "code",
   "execution_count": 219,
   "id": "abdc6bd1",
   "metadata": {},
   "outputs": [
    {
     "name": "stdout",
     "output_type": "stream",
     "text": [
      "not found\n",
      "not found\n"
     ]
    }
   ],
   "source": [
    "time = []\n",
    "for i in range(len(names)):\n",
    "    name,dire,col = names[i]\n",
    "    if dire:\n",
    "        path_db = path + name + \".csv_\" + \"directed\" + \"_exp_boost/\"\n",
    "    else:\n",
    "        path_db = path + name + \".csv_\" + \"undirected\" + \"_exp_boost/\"\n",
    "        \n",
    "    n, T, m, sm, stat = charact(path_db,stri[0],cost_type[0],-1)\n",
    "    res_sum_node,res_sum_time = res_dic(path_db,be,stri,cost_type,app,T,percent)\n",
    "    time.append([])\n",
    "    for j in range(len(cost_type)):\n",
    "        if check(res_sum_node,-1,-1,\"non-strict\",cost_type[j][0],cost_type[j][1]):\n",
    "            time[i].append(res_sum_time[-1][-1][\"non-strict\"][\"bet_exact\"][cost_type[j][1]][cost_type[j][0]])\n",
    "        else:\n",
    "            time[i].append([])"
   ]
  },
  {
   "cell_type": "code",
   "execution_count": 225,
   "id": "a59b88b3",
   "metadata": {},
   "outputs": [
    {
     "name": "stderr",
     "output_type": "stream",
     "text": [
      "/tmp/ipykernel_367544/865886486.py:43: UserWarning: Matplotlib is currently using module://matplotlib_inline.backend_inline, which is a non-GUI backend, so cannot show the figure.\n",
      "  fig.show()\n"
     ]
    },
    {
     "data": {
      "image/png": "[encoded data removed]",
      "text/plain": [
       "<Figure size 864x360 with 10 Axes>"
      ]
     },
     "metadata": {
      "needs_background": "light"
     },
     "output_type": "display_data"
    }
   ],
   "source": [
    "from matplotlib.pyplot import figure\n",
    "import numpy as np\n",
    "import matplotlib.pyplot as plt\n",
    "colors = [\"blue\",\"green\",\"red\",\"violet\",\"black\",\"brown\"]\n",
    "fig, axs = plt.subplots(len(cost_type), len(names))\n",
    "for i in range(len(names)):\n",
    "    for j in range(len(cost_type)):\n",
    "        ti = time[i][j]\n",
    "        if len(ti) != 0:\n",
    "            s = list(map(lambda x : x/1, ti ))\n",
    "            t = [jj for jj in range(len(ti))]\n",
    "            nb = 20\n",
    "            ba_val = []\n",
    "            su = sum(ti)\n",
    "            bins = np.arange(0, len(ti), len(ti)/(nb+1)) # fixed bin size\n",
    "            for jj in range(len(list(bins))-1):\n",
    "                ba_val.append(sum(ti[int(bins[jj]):int(bins[jj+1])]))\n",
    "        else:\n",
    "            ba_val = [0 for jj in range(len(list(bins))-1)]\n",
    "            \n",
    "            \n",
    "        \n",
    "        axs[j, i].bar([jj for jj in range(len(ba_val))],ba_val, alpha=0.5, color = colors[j])\n",
    "        if j == 0 and i == 0:\n",
    "            axs[j,i].set(xlabel='', title=names_cut[i],ylabel = cost_type_cut[j][0]+\"_\"+cost_type_cut[j][1])\n",
    "        elif j == 0 and i != 0:\n",
    "            axs[j,i].set(xlabel='', title=names_cut[i])\n",
    "        elif j != 0 and i == 0:\n",
    "            axs[j,i].set(xlabel='',ylabel = cost_type_cut[j][0]+\"_\"+cost_type_cut[j][1])\n",
    "        else:\n",
    "            axs[j,i].set(xlabel='')\n",
    "\n",
    "\n",
    "#     axs[0,i].set(xlabel='time life', ylabel='B(t)',title=names[i][0])\n",
    "        axs[j,i].yaxis.set_label_coords(-0.02,0.5)\n",
    "        axs[j,i].xaxis.set_label_coords(0.5,-0.02)\n",
    "        axs[j,i].set_xticks([-1,nb+1], labels=[0,1])\n",
    "        axs[j,i].set_yticks([0,max(ba_val)],labels=[0,int(max(ba_val)/100)])    \n",
    "\n",
    "# fig.tight_layout(pad = 1)\n",
    "fig.set_size_inches(12, 5)\n",
    "fig.savefig(\"short_time.png\")\n",
    "fig.show()\n"
   ]
  },
  {
   "cell_type": "code",
   "execution_count": null,
   "id": "b31d5b7c",
   "metadata": {},
   "outputs": [],
   "source": []
  },
  {
   "cell_type": "code",
   "execution_count": null,
   "id": "574bd09a",
   "metadata": {},
   "outputs": [],
   "source": []
  }
 ],
 "metadata": {
  "kernelspec": {
   "display_name": "Python 3 (ipykernel)",
   "language": "python",
   "name": "python3"
  },
  "language_info": {
   "codemirror_mode": {
    "name": "ipython",
    "version": 3
   },
   "file_extension": ".py",
   "mimetype": "text/x-python",
   "name": "python",
   "nbconvert_exporter": "python",
   "pygments_lexer": "ipython3",
   "version": "3.10.6"
  }
 },
 "nbformat": 4,
 "nbformat_minor": 5
}
