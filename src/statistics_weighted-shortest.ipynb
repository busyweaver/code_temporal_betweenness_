{
 "cells": [
  {
   "cell_type": "code",
   "execution_count": 149,
   "id": "c48b3d36",
   "metadata": {},
   "outputs": [],
   "source": [
    "name = \"/home/mehdi/Nextcloud/experiments/betweenness_discrete/shortest/highschool_2012.csv\"\n",
    "directed = False\n",
    "stri = [\"non-strict\",\"strict\"]\n",
    "be = [\"bet\", \"bet_exact\"]\n",
    "if directed:\n",
    "    path = name+\"_directed_exp\"\n",
    "else:\n",
    "    path = name+\"_undirected_exp\"\n",
    "path = path + \"_boost/\"\n",
    "cost_type = [[\"shortest\",\"passive\"], [\"shortest\",\"active\"]]\n",
    "app = [-1]"
   ]
  },
  {
   "cell_type": "code",
   "execution_count": 150,
   "id": "4ad8d8fb",
   "metadata": {},
   "outputs": [
    {
     "name": "stdout",
     "output_type": "stream",
     "text": [
      " & nodes & events & edges & sh ac & sh pa & non sh ac & non sh pa\\\\ \n",
      "/home/mehdi/Nextcloud/experiments/betweenness_discrete/shortest/highschool_2012.csv & $180$ & $11273$ & $45047$ & $416.52$ & $1208.1$ & $393.28$ & $1141.4$\\\\\n"
     ]
    }
   ],
   "source": [
    "print(\" & nodes & events & edges & sh ac & sh pa & non sh ac & non sh pa\\\\\\\\ \")\n",
    "f = open(path+\"info_-1.txt\", \"r\")\n",
    "print(name,end='')\n",
    "for x in f:\n",
    "    x = x[:-1]\n",
    "    res = x.split(\" \")\n",
    "    print(\" & $\"+res[-1][:6]+\"$\",end='')\n",
    "print(\"\\\\\\\\\")"
   ]
  },
  {
   "cell_type": "code",
   "execution_count": 151,
   "id": "e24c9c49",
   "metadata": {},
   "outputs": [],
   "source": [
    "n = 180 \n",
    "T = 11273\n",
    "res = dict()\n",
    "res_bet = dict()\n",
    "res_sum_node = dict()\n",
    "res_sum_time = dict()\n",
    "\n",
    "# res_sum_node = [0 for i in range(n)]\n",
    "# res_sum_time = [0 for i in range(T)]\n",
    "\n",
    "for b in be:\n",
    "    for st in stri:\n",
    "        for co in cost_type:\n",
    "            for ap in app:\n",
    "                f = open(path+b+\"_\"+st+\"_\"+co[0]+\"_\"+co[1]+\"_\"+str(ap)+\".txt\", \"r\")\n",
    "                if ap not in res:\n",
    "                    res[ap] = dict()\n",
    "                if ap not in res_bet:\n",
    "                    res_bet[ap] = dict()\n",
    "                if ap not in res_sum_node:\n",
    "                    res_sum_node[ap] = dict()\n",
    "                if ap not in res_sum_time:\n",
    "                    res_sum_time[ap] = dict()\n",
    "                    \n",
    "                if st not in res[ap]:\n",
    "                    res[ap][st] = dict()\n",
    "                if st not in res_bet[ap]:\n",
    "                    res_bet[ap][st] = dict()\n",
    "                if st not in res_sum_node[ap]:\n",
    "                    res_sum_node[ap][st] = dict()\n",
    "                if st not in res_sum_time[ap]:\n",
    "                    res_sum_time[ap][st] = dict()\n",
    "                    \n",
    "                if b not in res_bet[ap][st]:\n",
    "                    res_bet[ap][st][b] = dict()\n",
    "                res_bet[ap][st][b][co[0]+\"_\"+co[1]] = []\n",
    "                \n",
    "                if b not in res[ap][st]:\n",
    "                    res[ap][st][b] = dict()\n",
    "                    \n",
    "                if b not in res_sum_node[ap][st]:\n",
    "                    res_sum_node[ap][st][b] = dict()\n",
    "                if b not in res_sum_time[ap][st]:\n",
    "                    res_sum_time[ap][st][b] = dict()\n",
    "\n",
    "                if co[1] not in res[ap][st][b]:\n",
    "                    res[ap][st][b][co[1]] = dict()\n",
    "                if co[1] not in res_sum_node[ap][st][b]:\n",
    "                    res_sum_node[ap][st][b][co[1]] = dict()\n",
    "                if co[1] not in res_sum_time[ap][st][b]:\n",
    "                    res_sum_time[ap][st][b][co[1]] = dict()\n",
    "\n",
    "                res[ap][st][b][co[1]][co[0]] = []\n",
    "                \n",
    "                res_sum_time[ap][st][b][co[1]][co[0]] = [0 for i in range(T)]\n",
    "                res_sum_node[ap][st][b][co[1]][co[0]] = [0 for i in range(n)]\n",
    "\n",
    "                \n",
    "                \n",
    "                i = 0\n",
    "                for x in f:\n",
    "                    res_sum_node[ap][st][b][co[1]][co[0]][i//T] +=  float(x)\n",
    "                    res_sum_time[ap][st][b][co[1]][co[0]][i%T] += float(x)\n",
    "                    res[ap][st][b][co[1]][co[0]].append(float(x))\n",
    "                    res_bet[ap][st][b][co[0]+\"_\"+co[1]].append(float(x))\n",
    "                    i += 1"
   ]
  },
  {
   "cell_type": "code",
   "execution_count": 152,
   "id": "c3f11830",
   "metadata": {},
   "outputs": [
    {
     "name": "stdout",
     "output_type": "stream",
     "text": [
      "/home/mehdi/Nextcloud/experiments/betweenness_discrete/shortest/highschool_2012.csv& $0.98$ & $0.68$ & $0.54$ & $0.98$ & $0.68$ & $0.54$ & $0.99$ & $0.99$ & $0.99$ & $0.99$ & $0.99$ & $0.99$\\\\\n"
     ]
    }
   ],
   "source": [
    "#dfference tau active passive\n",
    "#print(\" & \\shortstack{act sh\\\\\\\\pas sh} & \\shortstack{act sh\\\\\\\\pas sh}  & \\shortstack{act sh\\\\\\\\pas sh}& \\shortstack{act sf\\\\\\\\pas sf} & \\shortstack{act sf\\\\\\\\pas sf} & \\shortstack{act sf\\\\\\\\pas sf}\\\\\\\\\" ) \n",
    "import scipy.stats as stats\n",
    "tau1, p_value = stats.kendalltau(res[-1][\"non-strict\"][\"bet_exact\"][\"active\"][\"shortest\"], res[-1][\"non-strict\"][\"bet_exact\"][\"passive\"][\"shortest\"])\n",
    "tau2, p_value = stats.kendalltau(res_sum_node[-1][\"non-strict\"][\"bet_exact\"][\"active\"][\"shortest\"], res_sum_node[-1][\"non-strict\"][\"bet_exact\"][\"passive\"][\"shortest\"])\n",
    "tau3, p_value = stats.kendalltau(res_sum_time[-1][\"non-strict\"][\"bet_exact\"][\"active\"][\"shortest\"], res_sum_time[-1][\"non-strict\"][\"bet_exact\"][\"passive\"][\"shortest\"])\n",
    "\n",
    "tau4, p_value = stats.kendalltau(res[-1][\"strict\"][\"bet_exact\"][\"active\"][\"shortest\"], res[-1][\"strict\"][\"bet_exact\"][\"passive\"][\"shortest\"])\n",
    "tau5, p_value = stats.kendalltau(res_sum_node[-1][\"strict\"][\"bet_exact\"][\"active\"][\"shortest\"], res_sum_node[-1][\"strict\"][\"bet_exact\"][\"passive\"][\"shortest\"])\n",
    "tau6, p_value = stats.kendalltau(res_sum_time[-1][\"strict\"][\"bet_exact\"][\"active\"][\"shortest\"], res_sum_time[-1][\"strict\"][\"bet_exact\"][\"passive\"][\"shortest\"])\n",
    "\n",
    "tau7, p_value = stats.kendalltau(res[-1][\"non-strict\"][\"bet_exact\"][\"active\"][\"shortest\"], res[-1][\"strict\"][\"bet_exact\"][\"active\"][\"shortest\"])\n",
    "tau8, p_value = stats.kendalltau(res_sum_node[-1][\"non-strict\"][\"bet_exact\"][\"active\"][\"shortest\"], res_sum_node[-1][\"strict\"][\"bet_exact\"][\"active\"][\"shortest\"])\n",
    "tau9, p_value = stats.kendalltau(res_sum_time[-1][\"non-strict\"][\"bet_exact\"][\"active\"][\"shortest\"], res_sum_time[-1][\"strict\"][\"bet_exact\"][\"active\"][\"shortest\"])\n",
    "\n",
    "tau10, p_value = stats.kendalltau(res[-1][\"non-strict\"][\"bet_exact\"][\"passive\"][\"shortest\"], res[-1][\"strict\"][\"bet_exact\"][\"passive\"][\"shortest\"])\n",
    "tau11, p_value = stats.kendalltau(res_sum_node[-1][\"non-strict\"][\"bet_exact\"][\"passive\"][\"shortest\"], res_sum_node[-1][\"strict\"][\"bet_exact\"][\"passive\"][\"shortest\"])\n",
    "tau12, p_value = stats.kendalltau(res_sum_time[-1][\"non-strict\"][\"bet_exact\"][\"passive\"][\"shortest\"], res_sum_time[-1][\"strict\"][\"bet_exact\"][\"passive\"][\"shortest\"])\n",
    "\n",
    "\n",
    "print(name+ \"& $\"+str(tau1)[:4]+\"$ & $\"+str(tau2)[:4]+\"$ & $\"+str(tau3)[:4]+\"$ & $\"+str(tau4)[:4]+\"$ & $\"+str(tau5)[:4]+\"$ & $\"+str(tau6)[:4]+ \"$ & $\"+str(tau7)[:4]+\"$ & $\"+str(tau8)[:4]+\"$ & $\"+str(tau9)[:4]+\"$ & $\"+str(tau10)[:4]+\"$ & $\"+str(tau11)[:4]+\"$ & $\"+str(tau12)[:4] +\"$\\\\\\\\\")\n"
   ]
  },
  {
   "cell_type": "code",
   "execution_count": 153,
   "id": "10d2c734",
   "metadata": {},
   "outputs": [
    {
     "name": "stdout",
     "output_type": "stream",
     "text": [
      "/home/mehdi/Nextcloud/experiments/betweenness_discrete/shortest/highschool_2012.csv& $0.96$& $0.98$& $0.75$& $0.94$& $0.66$& $0.44$& $0.96$& $0.98$& $0.75$& $0.94$& $0.66$& $0.44$\\\\\n"
     ]
    }
   ],
   "source": [
    "#dfference tau bet and exact bet\n",
    "import scipy.stats as stats\n",
    "print(name,end='')\n",
    "for st in stri:\n",
    "    for e in cost_type:\n",
    "        tau, p_value = stats.kendalltau(res_bet[-1][st][\"bet\"][e[0]+\"_\"+e[1]], res_bet[-1][st][\"bet_exact\"][e[0]+\"_\"+e[1]])\n",
    "        tau2, p_value = stats.kendalltau(res_sum_node[-1][st][\"bet\"][e[1]][e[0]], res_sum_node[-1][st][\"bet_exact\"][e[1]][e[0]])\n",
    "        tau3, p_value = stats.kendalltau(res_sum_time[-1][st][\"bet\"][e[1]][e[0]], res_sum_time[-1][st][\"bet_exact\"][e[1]][e[0]])\n",
    "\n",
    "        print(\"& $\"+str(tau)[:4]+\"$\"+\"& $\"+str(tau2)[:4]+\"$\"+\"& $\"+str(tau3)[:4]+\"$\",end='')\n",
    "print(\"\\\\\\\\\")\n"
   ]
  },
  {
   "cell_type": "code",
   "execution_count": 154,
   "id": "99f455ef",
   "metadata": {},
   "outputs": [],
   "source": [
    "def size_inter_10(x,y):\n",
    "    xx = [(x[i],i) for i in range(0,len(x))]\n",
    "    yy = [(y[i],i) for i in range(0,len(y))]\n",
    "    xx.sort(reverse=True)\n",
    "    yy.sort(reverse=True)\n",
    "    rx = { xx[i][1]  for i in range(0,10)}\n",
    "    ry = { yy[i][1]  for i in range(0,10)}\n",
    "    return len(rx.intersection(ry))\n",
    "    "
   ]
  },
  {
   "cell_type": "code",
   "execution_count": 155,
   "id": "db547b4a",
   "metadata": {},
   "outputs": [
    {
     "name": "stdout",
     "output_type": "stream",
     "text": [
      "/home/mehdi/Nextcloud/experiments/betweenness_discrete/shortest/highschool_2012.csv& $0$ & $5$ & $2$ & $0$ & $5$ & $2$ & $10$ & $10$ & $10$ & $9$ & $10$ & $0$\\\\\n"
     ]
    }
   ],
   "source": [
    "#dfference size intersection active passive\n",
    "#print(\" & ac sh vs. pas sh & act sf vs. pas sf & ex act sh vs. pas sh & ex act sf vs. pas sf \\\\\\\\\" ) \n",
    "import scipy.stats as stats\n",
    "s1 = size_inter_10(res[-1][\"non-strict\"][\"bet_exact\"][\"active\"][\"shortest\"], res[-1][\"non-strict\"][\"bet_exact\"][\"passive\"][\"shortest\"])\n",
    "s2 = size_inter_10(res_sum_node[-1][\"non-strict\"][\"bet_exact\"][\"active\"][\"shortest\"], res_sum_node[-1][\"non-strict\"][\"bet_exact\"][\"passive\"][\"shortest\"])\n",
    "s3 = size_inter_10(res_sum_time[-1][\"non-strict\"][\"bet_exact\"][\"active\"][\"shortest\"], res_sum_time[-1][\"non-strict\"][\"bet_exact\"][\"passive\"][\"shortest\"])\n",
    "\n",
    "\n",
    "s4 = size_inter_10(res[-1][\"strict\"][\"bet_exact\"][\"active\"][\"shortest\"], res[-1][\"strict\"][\"bet_exact\"][\"passive\"][\"shortest\"])\n",
    "s5 = size_inter_10(res_sum_node[-1][\"strict\"][\"bet_exact\"][\"active\"][\"shortest\"], res_sum_node[-1][\"strict\"][\"bet_exact\"][\"passive\"][\"shortest\"])\n",
    "s6 = size_inter_10(res_sum_time[-1][\"strict\"][\"bet_exact\"][\"active\"][\"shortest\"], res_sum_time[-1][\"strict\"][\"bet_exact\"][\"passive\"][\"shortest\"])\n",
    "\n",
    "s7 = size_inter_10(res[-1][\"non-strict\"][\"bet_exact\"][\"active\"][\"shortest\"], res[-1][\"strict\"][\"bet_exact\"][\"active\"][\"shortest\"])\n",
    "s8 = size_inter_10(res_sum_node[-1][\"non-strict\"][\"bet_exact\"][\"active\"][\"shortest\"], res_sum_node[-1][\"strict\"][\"bet_exact\"][\"active\"][\"shortest\"])\n",
    "s9 = size_inter_10(res_sum_time[-1][\"non-strict\"][\"bet_exact\"][\"active\"][\"shortest\"], res_sum_time[-1][\"strict\"][\"bet_exact\"][\"active\"][\"shortest\"])\n",
    "\n",
    "s10 = size_inter_10(res[-1][\"non-strict\"][\"bet_exact\"][\"passive\"][\"shortest\"], res[-1][\"strict\"][\"bet_exact\"][\"passive\"][\"shortest\"])\n",
    "s11 = size_inter_10(res_sum_node[-1][\"non-strict\"][\"bet_exact\"][\"passive\"][\"shortest\"], res_sum_node[-1][\"strict\"][\"bet_exact\"][\"passive\"][\"shortest\"])\n",
    "s12 = size_inter_10(res_sum_node[-1][\"non-strict\"][\"bet_exact\"][\"passive\"][\"shortest\"], res_sum_time[-1][\"strict\"][\"bet_exact\"][\"passive\"][\"shortest\"])\n",
    "\n",
    "print(name+ \"& $\"+str(s1)[:4]+\"$ & $\"+str(s2)[:4]+\"$ & $\"+str(s3)[:4]+\"$ & $\"+str(s4)[:4] + \"$ & $\"+str(s5)[:4]+\"$ & $\"+str(s6)[:4]+\"$ & $\"+str(s7)[:4]+\"$ & $\"+str(s8)[:4]+ \"$ & $\"+str(s9)[:4]+\"$ & $\"+str(s10)[:4]+\"$ & $\"+str(s11)[:4]+\"$ & $\"+str(s12)[:4] +\"$\\\\\\\\\")\n"
   ]
  },
  {
   "cell_type": "code",
   "execution_count": 227,
   "id": "096475b6",
   "metadata": {},
   "outputs": [],
   "source": [
    "# res_shrink = dict()\n",
    "# for b in [\"bet\",\"bet_exact\"]:\n",
    "#     res_shrink[b] = dict()\n",
    "#     res_shrink[b][\"passive\"] = dict()\n",
    "#     res_shrink[b][\"active\"] = dict()\n",
    "#     for s in [\"shortest\",\"shortestfastest\"]:\n",
    "#         res_shrink[b][\"active\"][s] = []\n",
    "#         res_shrink[b][\"passive\"][s] = []\n",
    "#         for i in range(0,len(res[b][\"active\"][s])): \n",
    "#             if not (res[b][\"active\"][s][i] == res[b][\"passive\"][s][i] and res[b][\"active\"][s][i] == 0):\n",
    "#                 res_shrink[b][\"active\"][s].append(res[b][\"active\"][s][i])\n",
    "#                 res_shrink[b][\"passive\"][s].append(res[b][\"passive\"][s][i])"
   ]
  },
  {
   "cell_type": "code",
   "execution_count": 228,
   "id": "cae45f86",
   "metadata": {},
   "outputs": [
    {
     "name": "stdout",
     "output_type": "stream",
     "text": [
      " & act sh vs. pas sh & act sf vs. pas sf & ex act sh vs. pas sh & ex act sf vs. pas sf \\\\\n",
      "/home/mehdi/Nextcloud/experiments/betweenness_discrete/primaryschool.csv& $0.82$ & $0.98$ & $0.75$ & $0.85$\\\\\n"
     ]
    }
   ],
   "source": [
    "# #dfference tau active passive reduced\n",
    "# print(\" & act sh vs. pas sh & act sf vs. pas sf & ex act sh vs. pas sh & ex act sf vs. pas sf \\\\\\\\\" ) \n",
    "# import scipy.stats as stats\n",
    "# tau, p_value = stats.kendalltau(res_shrink[\"bet\"][\"active\"][\"shortest\"], res_shrink[\"bet\"][\"passive\"][\"shortest\"])\n",
    "# tau2, p_value = stats.kendalltau(res_shrink[\"bet\"][\"active\"][\"shortestfastest\"], res_shrink[\"bet\"][\"passive\"][\"shortestfastest\"])\n",
    "# tau3, p_value = stats.kendalltau(res_shrink[\"bet_exact\"][\"active\"][\"shortest\"], res_shrink[\"bet_exact\"][\"passive\"][\"shortest\"])\n",
    "# tau4, p_value = stats.kendalltau(res_shrink[\"bet_exact\"][\"active\"][\"shortestfastest\"], res_shrink[\"bet_exact\"][\"passive\"][\"shortestfastest\"])\n",
    "# print(name+ \"& $\"+str(tau)[:4]+\"$ & $\"+str(tau2)[:4]+\"$ & $\"+str(tau3)[:4]+\"$ & $\"+str(tau4)[:4]+\"$\\\\\\\\\")\n"
   ]
  }
 ],
 "metadata": {
  "kernelspec": {
   "display_name": "Python 3 (ipykernel)",
   "language": "python",
   "name": "python3"
  },
  "language_info": {
   "codemirror_mode": {
    "name": "ipython",
    "version": 3
   },
   "file_extension": ".py",
   "mimetype": "text/x-python",
   "name": "python",
   "nbconvert_exporter": "python",
   "pygments_lexer": "ipython3",
   "version": "3.10.6"
  }
 },
 "nbformat": 4,
 "nbformat_minor": 5
}
