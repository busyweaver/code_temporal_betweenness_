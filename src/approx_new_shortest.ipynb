{
 "cells": [
  {
   "cell_type": "code",
   "execution_count": 2,
   "id": "c48b3d36",
   "metadata": {},
   "outputs": [],
   "source": [
    "def params(path,nam,directed):\n",
    "    name = path+nam+\".csv\"\n",
    "    stri = [\"non-strict\"]\n",
    "    be = [\"bet\", \"bet_exact\"]\n",
    "    if directed:\n",
    "        name = name+\"_directed_exp\"\n",
    "    else:\n",
    "        name = name+\"_undirected_exp\"\n",
    "    name = name + \"_boost/\"\n",
    "    cost_type = [[\"shortest\",\"passive\"], [\"shortest\",\"active\"]]\n",
    "    app = [-1]\n",
    "    return (name,be,stri,cost_type,app)"
   ]
  },
  {
   "cell_type": "code",
   "execution_count": 279,
   "id": "101079bc",
   "metadata": {},
   "outputs": [],
   "source": [
    "def info(name,nam):\n",
    "    f = open(name+\"info_-1.txt\", \"r\")\n",
    "    print(nam,end='')\n",
    "    i = 0\n",
    "    for x in f:\n",
    "        x = x[:-1]\n",
    "        res = x.split(\" \")\n",
    "        print(\" & $\"+str(res[-1])[:5]+\"$\",end=\"\")\n",
    "        i += 1\n",
    "    print(\"\\\\\\\\\")"
   ]
  },
  {
   "cell_type": "code",
   "execution_count": 4,
   "id": "bf3e51ed",
   "metadata": {},
   "outputs": [],
   "source": [
    "def bet_statique(path):\n",
    "    f = open(path+\"staticBet.txt\", \"r\")\n",
    "    stat = []\n",
    "    bet_stat = []\n",
    "    i = 0\n",
    "    for x in f:\n",
    "        x = x[:-1]\n",
    "        stat.append([float(x),i])\n",
    "        bet_stat.append(float(x))\n",
    "        i = i + 1\n",
    "    return bet_stat"
   ]
  },
  {
   "cell_type": "code",
   "execution_count": 272,
   "id": "4ad8d8fb",
   "metadata": {},
   "outputs": [],
   "source": [
    "def charact(name):\n",
    "#     print(name+\"info_-1.txt\")\n",
    "    f = open(name+\"info_-1.txt\", \"r\")\n",
    "#     print(name,end='')\n",
    "    i = 0\n",
    "    for x in f:\n",
    "        x = x[:-1]\n",
    "        res = x.split(\" \")\n",
    "        if i == 0:\n",
    "            n = int(res[-1])\n",
    "        if i == 1:\n",
    "            T = int(res[-1])\n",
    "        if i == 2:\n",
    "            m = int(res[-1])\n",
    "        i = i + 1\n",
    "    return (n,T,m)"
   ]
  },
  {
   "cell_type": "code",
   "execution_count": 6,
   "id": "e24c9c49",
   "metadata": {},
   "outputs": [],
   "source": [
    "def res_dic(path, be,stri,cost_type,app,T):\n",
    "    res = dict()\n",
    "    res_bet = dict()\n",
    "    res_sum_node = dict()\n",
    "    res_sum_time = dict()\n",
    "\n",
    "    for b in be:\n",
    "        for st in stri:\n",
    "            for co in cost_type:\n",
    "                for ap in app:\n",
    "                    #print(path+b+\"_\"+st+\"_\"+co[0]+\"_\"+co[1]+\"_\"+str(ap)+\".txt\")\n",
    "                    f = open(path+b+\"_\"+st+\"_\"+co[0]+\"_\"+co[1]+\"_\"+str(ap)+\".txt\", \"r\")\n",
    "                    if ap not in res:\n",
    "                        res[ap] = dict()\n",
    "                    if ap not in res_bet:\n",
    "                        res_bet[ap] = dict()\n",
    "                    if ap not in res_sum_node:\n",
    "                        res_sum_node[ap] = dict()\n",
    "                    if ap not in res_sum_time:\n",
    "                        res_sum_time[ap] = dict()\n",
    "\n",
    "                    if st not in res[ap]:\n",
    "                        res[ap][st] = dict()\n",
    "                    if st not in res_bet[ap]:\n",
    "                        res_bet[ap][st] = dict()\n",
    "                    if st not in res_sum_node[ap]:\n",
    "                        res_sum_node[ap][st] = dict()\n",
    "                    if st not in res_sum_time[ap]:\n",
    "                        res_sum_time[ap][st] = dict()\n",
    "\n",
    "                    if b not in res_bet[ap][st]:\n",
    "                        res_bet[ap][st][b] = dict()\n",
    "                    res_bet[ap][st][b][co[0]+\"_\"+co[1]] = []\n",
    "\n",
    "                    if b not in res[ap][st]:\n",
    "                        res[ap][st][b] = dict()\n",
    "\n",
    "                    if b not in res_sum_node[ap][st]:\n",
    "                        res_sum_node[ap][st][b] = dict()\n",
    "                    if b not in res_sum_time[ap][st]:\n",
    "                        res_sum_time[ap][st][b] = dict()\n",
    "\n",
    "                    if co[1] not in res[ap][st][b]:\n",
    "                        res[ap][st][b][co[1]] = dict()\n",
    "                    if co[1] not in res_sum_node[ap][st][b]:\n",
    "                        res_sum_node[ap][st][b][co[1]] = dict()\n",
    "                    if co[1] not in res_sum_time[ap][st][b]:\n",
    "                        res_sum_time[ap][st][b][co[1]] = dict()\n",
    "\n",
    "                    res[ap][st][b][co[1]][co[0]] = []\n",
    "\n",
    "                    res_sum_time[ap][st][b][co[1]][co[0]] = [0 for i in range(T)]\n",
    "                    res_sum_node[ap][st][b][co[1]][co[0]] = [0 for i in range(n)]\n",
    "\n",
    "\n",
    "\n",
    "                    i = 0\n",
    "                    for x in f:\n",
    "                        res_sum_node[ap][st][b][co[1]][co[0]][i//T] +=  float(x)\n",
    "                        res_sum_time[ap][st][b][co[1]][co[0]][i%T] += float(x)\n",
    "                        res[ap][st][b][co[1]][co[0]].append(float(x))\n",
    "                        res_bet[ap][st][b][co[0]+\"_\"+co[1]].append(float(x))\n",
    "                        i += 1\n",
    "    return (res,res_bet,res_sum_node,res_sum_time)"
   ]
  },
  {
   "cell_type": "code",
   "execution_count": 7,
   "id": "868bb973",
   "metadata": {},
   "outputs": [],
   "source": [
    "import scipy.stats as stats\n",
    "import matplotlib.pyplot as plt\n",
    "def kendallrank(res_sum_node,bet_stat):\n",
    "    tau1, p_value = stats.kendalltau(res_sum_node[-1][\"non-strict\"][\"bet_exact\"][\"active\"][\"shortest\"], res_sum_node[-1][\"non-strict\"][\"bet_exact\"][\"passive\"][\"shortest\"])\n",
    "    tau2, p_value = stats.kendalltau(res_sum_node[-1][\"non-strict\"][\"bet_exact\"][\"active\"][\"shortest\"], bet_stat)\n",
    "    tau3, p_value = stats.kendalltau(res_sum_node[-1][\"non-strict\"][\"bet_exact\"][\"passive\"][\"shortest\"], bet_stat)\n",
    "    return [tau1, tau2, tau3]"
   ]
  },
  {
   "cell_type": "code",
   "execution_count": 354,
   "id": "d6f26a26",
   "metadata": {},
   "outputs": [],
   "source": [
    "path = \"/home/mehdi/Nextcloud/experiments/betweenness_discrete/shortest/\"\n",
    "cor = []\n",
    "names = [[\"primaryschool\",False,\"green\"],[\"highschool_2012\",False,\"green\"], [\"highschool_2011\",False,\"orange\"], [\"hospital_ward\",False,\"blue\"], [\"workplace_2013\",False,\"blue\"], [\"ht09\",False,\"blue\"]]\n",
    "for nam,dire,col in names:\n",
    "    path_add,be,stri,cost_type,app = params(path,nam,dire)\n",
    "#     print(path_add)\n",
    "    n, T, m = charact(path_add)\n",
    "    res,res_bet,res_sum_node,res_sum_time = res_dic(path_add,be,stri,cost_type,app,T)\n",
    "#     print(path_add)\n",
    "    name_curve = nam\n",
    "    bet_stat = bet_statique(path_add)\n",
    "    l = kendallrank(res_sum_node,bet_stat)\n",
    "    cor.append(l)"
   ]
  },
  {
   "cell_type": "code",
   "execution_count": 355,
   "id": "c797b89f",
   "metadata": {},
   "outputs": [
    {
     "data": {
      "text/plain": [
       "[[0.7640684475841021, 0.701930660814101, 0.8185247419498645],\n",
       " [0.6686324414923335, 0.5858215904152958, 0.8096716121422808],\n",
       " [0.734095238095238, 0.6375873015873016, 0.8323809523809524],\n",
       " [0.8760360360360361, 0.7196396396396397, 0.788828828828829],\n",
       " [0.7037744863831821, 0.568561872909699, 0.8150979455327281],\n",
       " [0.7620101137800253, 0.6292667509481668, 0.8091024020227559]]"
      ]
     },
     "execution_count": 355,
     "metadata": {},
     "output_type": "execute_result"
    }
   ],
   "source": [
    "cor"
   ]
  },
  {
   "cell_type": "code",
   "execution_count": 361,
   "id": "fe8fa786",
   "metadata": {},
   "outputs": [
    {
     "data": {
      "image/png": "[encoded data removed]",
      "text/plain": [
       "<Figure size 720x576 with 2 Axes>"
      ]
     },
     "metadata": {
      "needs_background": "light"
     },
     "output_type": "display_data"
    }
   ],
   "source": [
    "bet_comp = [\"act/pas\", \"act/stat\", \"pas/stat\"]\n",
    "import numpy as np\n",
    "import seaborn as sns\n",
    "import pandas as pd\n",
    "from pylab import savefig\n",
    "\n",
    "cor_mat = np.matrix(cor)\n",
    "transp = cor_mat.transpose()\n",
    "#, 'row_names': bet_comp\n",
    "# {} , orient='index' 'column_names': ['z1', 'z2','z3'],\n",
    "# d = {[names[i][0],bet_comp[j]] : cor[i][j] for j in range(len(bet_comp))  for i in range(len(cor)) } \n",
    "df = pd.DataFrame.from_dict( data=transp)\n",
    "df.index = bet_comp\n",
    "df.columns = list(map(lambda x : x[0], names))\n",
    "f, ax = plt.subplots(figsize=(10, 8))\n",
    "# corr = df.corr()\n",
    "svm = sns.heatmap(df,\n",
    "    cmap=sns.diverging_palette(220, 10, as_cmap=True),\n",
    "    vmin=0, vmax=1.0,\n",
    "    square=True, ax=ax, cbar_kws={\"shrink\": 0.5}, annot=transp)\n",
    "figure = svm.get_figure()  \n",
    "plt.xticks(fontsize=10) \n",
    "plt.yticks(fontsize=12) \n",
    "\n",
    "figure.savefig('heat_short_node.png', dpi=400,bbox_inches='tight')\n",
    "figure.tight_layout()"
   ]
  },
  {
   "cell_type": "code",
   "execution_count": 157,
   "id": "aafbcff4",
   "metadata": {},
   "outputs": [],
   "source": [
    "time = []\n",
    "for nam,dire,col in names:\n",
    "    path_add,be,stri,cost_type,app = params(path,nam,dire)\n",
    "#     print(path_add)\n",
    "    n, T, m = charact(path_add)\n",
    "    res,res_bet,res_sum_node,res_sum_time = res_dic(path_add,be,stri,cost_type,app,T)\n",
    "#     print(path_add)\n",
    "    l = [res_sum_time[-1][\"non-strict\"][\"bet_exact\"][\"active\"][\"shortest\"], res_sum_time[-1][\"non-strict\"][\"bet_exact\"][\"passive\"][\"shortest\"]]\n",
    "    time.append(l)"
   ]
  },
  {
   "cell_type": "code",
   "execution_count": 159,
   "id": "f4daeb43",
   "metadata": {},
   "outputs": [
    {
     "name": "stderr",
     "output_type": "stream",
     "text": [
      "/tmp/ipykernel_206442/3789465038.py:19: UserWarning: Matplotlib is currently using module://matplotlib_inline.backend_inline, which is a non-GUI backend, so cannot show the figure.\n",
      "  fig.show()\n"
     ]
    },
    {
     "data": {
      "image/png": "[encoded data removed]",
      "text/plain": [
       "<Figure size 432x288 with 6 Axes>"
      ]
     },
     "metadata": {},
     "output_type": "display_data"
    }
   ],
   "source": [
    "import numpy as np\n",
    "import matplotlib.pyplot as plt\n",
    "fig, axs = plt.subplots(2, 3)\n",
    "for i in range(len(names)):\n",
    "    ti = time[i][0]\n",
    "    ti2 = time[i][1]\n",
    "    m = max(max(ti),max(ti2))\n",
    "    s = list(map(lambda x : x/1, ti ))\n",
    "    s2 = list(map(lambda x : x/1, ti2 ))\n",
    "\n",
    "    t = [j for j in range(len(ti))]\n",
    "    axs[i//3, i%3].plot(t, s)\n",
    "    axs[i//3, i%3].plot(t, s2)\n",
    "    axs[i//3, i%3].set(xlabel='', ylabel='',title=names[i][0])\n",
    "    axs[i//3, i%3].set_xticks([])\n",
    "    axs[i//3, i%3].set_yticks([])\n",
    "# fig.delaxes(axs[1][2])\n",
    "fig.savefig(\"short_time.png\")\n",
    "fig.show()\n"
   ]
  },
  {
   "cell_type": "code",
   "execution_count": 347,
   "id": "a59b88b3",
   "metadata": {},
   "outputs": [
    {
     "name": "stderr",
     "output_type": "stream",
     "text": [
      "/tmp/ipykernel_206442/3277496867.py:40: UserWarning: Matplotlib is currently using module://matplotlib_inline.backend_inline, which is a non-GUI backend, so cannot show the figure.\n",
      "  fig.show()\n"
     ]
    },
    {
     "data": {
      "image/png": "[encoded data removed]",
      "text/plain": [
       "<Figure size 864x432 with 12 Axes>"
      ]
     },
     "metadata": {
      "needs_background": "light"
     },
     "output_type": "display_data"
    }
   ],
   "source": [
    "from matplotlib.pyplot import figure\n",
    "import numpy as np\n",
    "import matplotlib.pyplot as plt\n",
    "fig, axs = plt.subplots(2, 6)\n",
    "for i in range(len(names)):\n",
    "    ti = time[i][0]\n",
    "    ti2 = time[i][1]\n",
    "    s = list(map(lambda x : x/1, ti ))\n",
    "    s2 = list(map(lambda x : x/1, ti2 ))\n",
    "    t = [j for j in range(len(ti))]\n",
    "    nb = 20\n",
    "    ba_val = []\n",
    "    su = sum(ti)\n",
    "    su2 = sum(ti2)\n",
    "    ba_val2 = []\n",
    "    bins = np.arange(0, len(ti), len(ti)/(nb+1)) # fixed bin size\n",
    "    for j in range(len(list(bins))-1):\n",
    "        ba_val.append(sum(ti[int(bins[j]):int(bins[j+1])]))\n",
    "        ba_val2.append(sum(ti2[int(bins[j]):int(bins[j+1])]))\n",
    "    axs[0, i].bar([j for j in range(len(ba_val))],ba_val, alpha=0.5)\n",
    "    axs[1, i].bar([j for j in range(len(ba_val))],ba_val2, alpha=0.5, color = \"orange\")\n",
    "    \n",
    "#     if i == 0:\n",
    "    axs[0,i].set(xlabel='time life', ylabel='B(t)',title=names[i][0])\n",
    "    axs[0,i].yaxis.set_label_coords(-0.02,0.5)\n",
    "    axs[0,i].xaxis.set_label_coords(0.5,-0.02)\n",
    "    axs[0,i].set_xticks([-1,nb+1], labels=[0,1])\n",
    "    axs[0,i].set_yticks([0,max(ba_val)],labels=[0,int(max(ba_val)/100)])\n",
    "    \n",
    "    axs[1,i].set(xlabel='time life', ylabel='B(t)')\n",
    "    axs[1,i].yaxis.set_label_coords(-0.02,0.5)\n",
    "    axs[1,i].xaxis.set_label_coords(0.5,-0.02)\n",
    "    axs[1,i].set_xticks([-1,nb+1], labels=[0,1])\n",
    "    axs[1,i].set_yticks([0,max(ba_val2)],labels=[0,int(max(ba_val2)/100)])\n",
    "    \n",
    "\n",
    "# fig.tight_layout(pad = 1)\n",
    "fig.set_size_inches(12, 6)\n",
    "fig.savefig(\"short_time.png\")\n",
    "fig.show()\n"
   ]
  },
  {
   "cell_type": "code",
   "execution_count": 280,
   "id": "6130af04",
   "metadata": {},
   "outputs": [
    {
     "name": "stdout",
     "output_type": "stream",
     "text": [
      "dataset & nodes & events & edges & Buss & active & passive & static \\\\\n",
      "primaryschool & $242$ & $3100$ & $12577$ & $955.6$ & $379.6$ & $1326.$ & $2.968$\\\\\n",
      "highschool_2012 & $180$ & $11273$ & $45047$ & $225.4$ & $316.8$ & $289.9$ & $0.667$\\\\\n",
      "highschool_2011 & $126$ & $5609$ & $28539$ & $74.95$ & $87.48$ & $95.50$ & $0.281$\\\\\n",
      "hospital_ward & $75$ & $9453$ & $32424$ & $120.6$ & $64.75$ & $167.5$ & $0.159$\\\\\n",
      "workplace_2013 & $92$ & $7104$ & $9827$ & $11.61$ & $45.18$ & $16.18$ & $0.075$\\\\\n",
      "ht09 & $113$ & $5246$ & $20818$ & $45.73$ & $55.94$ & $61.30$ & $0.203$\\\\\n"
     ]
    }
   ],
   "source": [
    "path = \"/home/mehdi/Nextcloud/experiments/betweenness_discrete/shortest/\"\n",
    "cor = []\n",
    "names = [[\"primaryschool\",False,\"green\"],[\"highschool_2012\",False,\"green\"], [\"highschool_2011\",False,\"orange\"], [\"hospital_ward\",False,\"blue\"], [\"workplace_2013\",False,\"blue\"], [\"ht09\",False,\"blue\"]]\n",
    "print(\"dataset & nodes & events & edges & Buss & active & passive & static \\\\\\\\\")\n",
    "\n",
    "for nam,dire,col in names:\n",
    "    path_add,be,stri,cost_type,app = params(path,nam,dire)\n",
    "#     print(path_add)\n",
    "    n, T, m = charact(path_add)\n",
    "    info(path_add,nam)"
   ]
  },
  {
   "cell_type": "code",
   "execution_count": null,
   "id": "b31d5b7c",
   "metadata": {},
   "outputs": [],
   "source": []
  }
 ],
 "metadata": {
  "kernelspec": {
   "display_name": "Python 3 (ipykernel)",
   "language": "python",
   "name": "python3"
  },
  "language_info": {
   "codemirror_mode": {
    "name": "ipython",
    "version": 3
   },
   "file_extension": ".py",
   "mimetype": "text/x-python",
   "name": "python",
   "nbconvert_exporter": "python",
   "pygments_lexer": "ipython3",
   "version": "3.10.6"
  }
 },
 "nbformat": 4,
 "nbformat_minor": 5
}
