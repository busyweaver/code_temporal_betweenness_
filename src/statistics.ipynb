{
 "cells": [
  {
   "cell_type": "code",
   "execution_count": 99,
   "id": "286bc16b",
   "metadata": {},
   "outputs": [],
   "source": [
    "name = \"primaryschool.csv\"\n",
    "directed = True\n",
    "stri = {\"non-strict\"}\n",
    "be = [\"bet\", \"bet_exact\"]\n",
    "if directed:\n",
    "    path = \"examples/\"+name+\"_directed_exp/\"\n",
    "else:\n",
    "    path = \"examples/\"+name+\"_undirected_exp/\"\n",
    "cost_type = [[\"shortest\",\"passive\"], [\"shortest\",\"active\"], [\"shortestfastest\",\"passive\"] , [\"shortestfastest\",\"active\"], [\"foremost\",\"passive\"] , [\"shortestforemost\",\"passive\"]]"
   ]
  },
  {
   "cell_type": "code",
   "execution_count": 128,
   "id": "e3ec1b49",
   "metadata": {},
   "outputs": [
    {
     "name": "stdout",
     "output_type": "stream",
     "text": [
      " & nodes & events & edges & fm pas & sh act & sh pas & sf act & sf pas & shfm \\\\ \n",
      "primaryschool.csv & $242$ & $3100$ & $125773$ & $3125.7$ & $645.89$ & $604.98$ & $868.12$ & $484.94$ & $749.19$ & $3069.7$ & $660.89$ & $599.81$ & $857.11$ & $479.51$ & $739.13$\\\\\n"
     ]
    }
   ],
   "source": [
    "print(\" & nodes & events & edges & fm pas & sh act & sh pas & sf act & sf pas & shfm \\\\\\\\ \")\n",
    "f = open(path+\"info.txt\", \"r\")\n",
    "print(name,end='')\n",
    "for x in f:\n",
    "    x = x[:-1]\n",
    "    res = x.split(\" \")\n",
    "    print(\" & $\"+res[-1][:6]+\"$\",end='')\n",
    "print(\"\\\\\\\\\")"
   ]
  },
  {
   "cell_type": "code",
   "execution_count": 101,
   "id": "5632b012",
   "metadata": {},
   "outputs": [],
   "source": [
    "res = dict()\n",
    "res_bet = dict()\n",
    "for b in be:\n",
    "    for st in stri:\n",
    "        for co in cost_type:\n",
    "            f = open(path+b+\"_\"+st+\"_\"+co[0]+\"_\"+co[1]+\".txt\", \"r\")\n",
    "            if b not in res_bet:\n",
    "                res_bet[b] = dict()\n",
    "            res_bet[b][co[0]+\"_\"+co[1]] = []\n",
    "            if b not in res:\n",
    "                res[b] = dict()\n",
    "            \n",
    "            if co[1] not in res[b]:\n",
    "                res[b][co[1]] = dict()\n",
    "            \n",
    "            res[b][co[1]][co[0]] = []\n",
    "                    \n",
    "            for x in f:\n",
    "                res[b][co[1]][co[0]].append(float(x))\n",
    "                res_bet[b][co[0]+\"_\"+co[1]].append(float(x))"
   ]
  },
  {
   "cell_type": "code",
   "execution_count": 109,
   "id": "42a1c068",
   "metadata": {},
   "outputs": [
    {
     "name": "stdout",
     "output_type": "stream",
     "text": [
      " & act sh vs. pas sh & act sf vs. pas sf & ex act sh vs. pas sh & ex act sf vs. pas sf \\\\\n",
      "primaryschool.csv& $0.97$ & $0.99$ & $0.98$ & $0.99$\\\\\n"
     ]
    }
   ],
   "source": [
    "#dfference tau active passive\n",
    "print(\" & act sh vs. pas sh & act sf vs. pas sf & ex act sh vs. pas sh & ex act sf vs. pas sf \\\\\\\\\" ) \n",
    "import scipy.stats as stats\n",
    "tau, p_value = stats.kendalltau(res[\"bet\"][\"active\"][\"shortest\"], res[\"bet\"][\"passive\"][\"shortest\"])\n",
    "tau2, p_value = stats.kendalltau(res[\"bet\"][\"active\"][\"shortestfastest\"], res[\"bet\"][\"passive\"][\"shortestfastest\"])\n",
    "tau3, p_value = stats.kendalltau(res[\"bet_exact\"][\"active\"][\"shortest\"], res[\"bet_exact\"][\"passive\"][\"shortest\"])\n",
    "tau4, p_value = stats.kendalltau(res[\"bet_exact\"][\"active\"][\"shortestfastest\"], res[\"bet_exact\"][\"passive\"][\"shortestfastest\"])\n",
    "print(name+ \"& $\"+str(tau)[:4]+\"$ & $\"+str(tau2)[:4]+\"$ & $\"+str(tau3)[:4]+\"$ & $\"+str(tau4)[:4]+\"$\\\\\\\\\")\n"
   ]
  },
  {
   "cell_type": "code",
   "execution_count": 103,
   "id": "25742aae",
   "metadata": {},
   "outputs": [
    {
     "name": "stdout",
     "output_type": "stream",
     "text": [
      " & act sh & pas sh & act sf & pas sf & fm pas & shfm pas \\\\\n",
      "primaryschool.csv& $0.61$& $0.62$& $0.30$& $0.30$& $0.76$& $0.72$\\\\\n"
     ]
    }
   ],
   "source": [
    "#dfference tau bet and exact bet\n",
    "print(\" & act sh & pas sh & act sf & pas sf & fm pas & shfm pas \\\\\\\\\" ) \n",
    "import scipy.stats as stats\n",
    "print(name,end='')\n",
    "for e in cost_type:\n",
    "    tau, p_value = stats.kendalltau(res_bet[\"bet\"][e[0]+\"_\"+e[1]], res_bet[\"bet_exact\"][e[0]+\"_\"+e[1]])\n",
    "    print(\"& $\"+str(tau)[:4]+\"$\",end='')\n",
    "print(\"\\\\\\\\\")\n"
   ]
  },
  {
   "cell_type": "code",
   "execution_count": 122,
   "id": "136f90e3",
   "metadata": {},
   "outputs": [],
   "source": [
    "def size_inter_10(x,y):\n",
    "    xx = [(x[i],i) for i in range(0,len(x))]\n",
    "    yy = [(y[i],i) for i in range(0,len(y))]\n",
    "    xx.sort(reverse=True)\n",
    "    yy.sort(reverse=True)\n",
    "    rx = { xx[i][1]  for i in range(0,10)}\n",
    "    ry = { yy[i][1]  for i in range(0,10)}\n",
    "    return len(rx.intersection(ry))\n",
    "    "
   ]
  },
  {
   "cell_type": "code",
   "execution_count": 123,
   "id": "e67dc30d",
   "metadata": {},
   "outputs": [
    {
     "name": "stdout",
     "output_type": "stream",
     "text": [
      " & act sh vs. pas sh & act sf vs. pas sf & ex act sh vs. pas sh & ex act sf vs. pas sf \\\\\n",
      "primaryschool.csv& $7$ & $8$ & $8$ & $8$\\\\\n"
     ]
    }
   ],
   "source": [
    "#dfference size intersection active passive\n",
    "print(\" & act sh vs. pas sh & act sf vs. pas sf & ex act sh vs. pas sh & ex act sf vs. pas sf \\\\\\\\\" ) \n",
    "import scipy.stats as stats\n",
    "s1 = size_inter_10(res[\"bet\"][\"active\"][\"shortest\"], res[\"bet\"][\"passive\"][\"shortest\"])\n",
    "s2 = size_inter_10(res[\"bet\"][\"active\"][\"shortestfastest\"], res[\"bet\"][\"passive\"][\"shortestfastest\"])\n",
    "s3 = size_inter_10(res[\"bet_exact\"][\"active\"][\"shortest\"], res[\"bet_exact\"][\"passive\"][\"shortest\"])\n",
    "s4 = size_inter_10(res[\"bet_exact\"][\"active\"][\"shortestfastest\"], res[\"bet_exact\"][\"passive\"][\"shortestfastest\"])\n",
    "print(name+ \"& $\"+str(s1)[:4]+\"$ & $\"+str(s2)[:4]+\"$ & $\"+str(s3)[:4]+\"$ & $\"+str(s4)[:4]+\"$\\\\\\\\\")\n"
   ]
  },
  {
   "cell_type": "code",
   "execution_count": null,
   "id": "771184b0",
   "metadata": {},
   "outputs": [],
   "source": []
  }
 ],
 "metadata": {
  "kernelspec": {
   "display_name": "Python 3 (ipykernel)",
   "language": "python",
   "name": "python3"
  },
  "language_info": {
   "codemirror_mode": {
    "name": "ipython",
    "version": 3
   },
   "file_extension": ".py",
   "mimetype": "text/x-python",
   "name": "python",
   "nbconvert_exporter": "python",
   "pygments_lexer": "ipython3",
   "version": "3.10.6"
  }
 },
 "nbformat": 4,
 "nbformat_minor": 5
}
