{
 "cells": [
  {
   "cell_type": "code",
   "execution_count": 220,
   "id": "c48b3d36",
   "metadata": {},
   "outputs": [],
   "source": [
    "name = \"/home/mehdi/Nextcloud/experiments/betweenness_discrete/primaryschool.csv\"\n",
    "directed = True\n",
    "stri = {\"non-strict\"}\n",
    "be = [\"bet\", \"bet_exact\"]\n",
    "if directed:\n",
    "    path = name+\"_directed_exp/\"\n",
    "else:\n",
    "    path = name+\"_undirected_exp/\"\n",
    "cost_type = [[\"shortest\",\"passive\"], [\"shortest\",\"active\"], [\"shortestfastest\",\"passive\"] , [\"shortestfastest\",\"active\"], [\"foremost\",\"passive\"] , [\"shortestforemost\",\"passive\"]]"
   ]
  },
  {
   "cell_type": "code",
   "execution_count": 221,
   "id": "4ad8d8fb",
   "metadata": {},
   "outputs": [
    {
     "name": "stdout",
     "output_type": "stream",
     "text": [
      " & nodes & events & edges & fm pas & sh act & sh pas & sf act & sf pas & shfm \\\\ \n",
      "/home/mehdi/Nextcloud/experiments/betweenness_discrete/primaryschool.csv & $242$ & $3100$ & $125773$ & $3153.5$ & $666.04$ & $617.04$ & $870.08$ & $492.14$ & $755.46$ & $3101.4$ & $671.06$ & $611.36$ & $859.31$ & $487.46$ & $746.32$\\\\\n"
     ]
    }
   ],
   "source": [
    "print(\" & nodes & events & edges & fm pas & sh act & sh pas & sf act & sf pas & shfm \\\\\\\\ \")\n",
    "f = open(path+\"info.txt\", \"r\")\n",
    "print(name,end='')\n",
    "for x in f:\n",
    "    x = x[:-1]\n",
    "    res = x.split(\" \")\n",
    "    print(\" & $\"+res[-1][:6]+\"$\",end='')\n",
    "print(\"\\\\\\\\\")"
   ]
  },
  {
   "cell_type": "code",
   "execution_count": 222,
   "id": "e24c9c49",
   "metadata": {},
   "outputs": [],
   "source": [
    "res = dict()\n",
    "res_bet = dict()\n",
    "for b in be:\n",
    "    for st in stri:\n",
    "        for co in cost_type:\n",
    "            f = open(path+b+\"_\"+st+\"_\"+co[0]+\"_\"+co[1]+\".txt\", \"r\")\n",
    "            if b not in res_bet:\n",
    "                res_bet[b] = dict()\n",
    "            res_bet[b][co[0]+\"_\"+co[1]] = []\n",
    "            if b not in res:\n",
    "                res[b] = dict()\n",
    "            \n",
    "            if co[1] not in res[b]:\n",
    "                res[b][co[1]] = dict()\n",
    "            \n",
    "            res[b][co[1]][co[0]] = []\n",
    "                    \n",
    "            for x in f:\n",
    "                res[b][co[1]][co[0]].append(float(x))\n",
    "                res_bet[b][co[0]+\"_\"+co[1]].append(float(x))"
   ]
  },
  {
   "cell_type": "code",
   "execution_count": 223,
   "id": "c3f11830",
   "metadata": {},
   "outputs": [
    {
     "name": "stdout",
     "output_type": "stream",
     "text": [
      " & act sh vs. pas sh & act sf vs. pas sf & ex act sh vs. pas sh & ex act sf vs. pas sf \\\\\n",
      "/home/mehdi/Nextcloud/experiments/betweenness_discrete/primaryschool.csv& $0.97$ & $0.99$ & $0.95$ & $0.99$\\\\\n"
     ]
    }
   ],
   "source": [
    "#dfference tau active passive\n",
    "print(\" & act sh vs. pas sh & act sf vs. pas sf & ex act sh vs. pas sh & ex act sf vs. pas sf \\\\\\\\\" ) \n",
    "import scipy.stats as stats\n",
    "tau, p_value = stats.kendalltau(res[\"bet\"][\"active\"][\"shortest\"], res[\"bet\"][\"passive\"][\"shortest\"])\n",
    "tau2, p_value = stats.kendalltau(res[\"bet\"][\"active\"][\"shortestfastest\"], res[\"bet\"][\"passive\"][\"shortestfastest\"])\n",
    "tau3, p_value = stats.kendalltau(res[\"bet_exact\"][\"active\"][\"shortest\"], res[\"bet_exact\"][\"passive\"][\"shortest\"])\n",
    "tau4, p_value = stats.kendalltau(res[\"bet_exact\"][\"active\"][\"shortestfastest\"], res[\"bet_exact\"][\"passive\"][\"shortestfastest\"])\n",
    "print(name+ \"& $\"+str(tau)[:4]+\"$ & $\"+str(tau2)[:4]+\"$ & $\"+str(tau3)[:4]+\"$ & $\"+str(tau4)[:4]+\"$\\\\\\\\\")\n"
   ]
  },
  {
   "cell_type": "code",
   "execution_count": 224,
   "id": "10d2c734",
   "metadata": {},
   "outputs": [
    {
     "name": "stdout",
     "output_type": "stream",
     "text": [
      " & act sh & pas sh & act sf & pas sf & fm pas & shfm pas \\\\\n",
      "/home/mehdi/Nextcloud/experiments/betweenness_discrete/primaryschool.csv& $0.61$& $0.59$& $0.30$& $0.30$& $0.76$& $0.72$\\\\\n"
     ]
    }
   ],
   "source": [
    "#dfference tau bet and exact bet\n",
    "print(\" & act sh & pas sh & act sf & pas sf & fm pas & shfm pas \\\\\\\\\" ) \n",
    "import scipy.stats as stats\n",
    "print(name,end='')\n",
    "for e in cost_type:\n",
    "    tau, p_value = stats.kendalltau(res_bet[\"bet\"][e[0]+\"_\"+e[1]], res_bet[\"bet_exact\"][e[0]+\"_\"+e[1]])\n",
    "    print(\"& $\"+str(tau)[:4]+\"$\",end='')\n",
    "print(\"\\\\\\\\\")\n"
   ]
  },
  {
   "cell_type": "code",
   "execution_count": 225,
   "id": "99f455ef",
   "metadata": {},
   "outputs": [],
   "source": [
    "def size_inter_10(x,y):\n",
    "    xx = [(x[i],i) for i in range(0,len(x))]\n",
    "    yy = [(y[i],i) for i in range(0,len(y))]\n",
    "    xx.sort(reverse=True)\n",
    "    yy.sort(reverse=True)\n",
    "    rx = { xx[i][1]  for i in range(0,10)}\n",
    "    ry = { yy[i][1]  for i in range(0,10)}\n",
    "    return len(rx.intersection(ry))\n",
    "    "
   ]
  },
  {
   "cell_type": "code",
   "execution_count": 226,
   "id": "db547b4a",
   "metadata": {},
   "outputs": [
    {
     "name": "stdout",
     "output_type": "stream",
     "text": [
      " & act sh vs. pas sh & act sf vs. pas sf & ex act sh vs. pas sh & ex act sf vs. pas sf \\\\\n",
      "/home/mehdi/Nextcloud/experiments/betweenness_discrete/primaryschool.csv& $4$ & $8$ & $3$ & $8$\\\\\n"
     ]
    }
   ],
   "source": [
    "#dfference size intersection active passive\n",
    "print(\" & act sh vs. pas sh & act sf vs. pas sf & ex act sh vs. pas sh & ex act sf vs. pas sf \\\\\\\\\" ) \n",
    "import scipy.stats as stats\n",
    "s1 = size_inter_10(res[\"bet\"][\"active\"][\"shortest\"], res[\"bet\"][\"passive\"][\"shortest\"])\n",
    "s2 = size_inter_10(res[\"bet\"][\"active\"][\"shortestfastest\"], res[\"bet\"][\"passive\"][\"shortestfastest\"])\n",
    "s3 = size_inter_10(res[\"bet_exact\"][\"active\"][\"shortest\"], res[\"bet_exact\"][\"passive\"][\"shortest\"])\n",
    "s4 = size_inter_10(res[\"bet_exact\"][\"active\"][\"shortestfastest\"], res[\"bet_exact\"][\"passive\"][\"shortestfastest\"])\n",
    "print(name+ \"& $\"+str(s1)[:4]+\"$ & $\"+str(s2)[:4]+\"$ & $\"+str(s3)[:4]+\"$ & $\"+str(s4)[:4]+\"$\\\\\\\\\")\n"
   ]
  },
  {
   "cell_type": "code",
   "execution_count": 227,
   "id": "096475b6",
   "metadata": {},
   "outputs": [],
   "source": [
    "res_shrink = dict()\n",
    "for b in [\"bet\",\"bet_exact\"]:\n",
    "    res_shrink[b] = dict()\n",
    "    res_shrink[b][\"passive\"] = dict()\n",
    "    res_shrink[b][\"active\"] = dict()\n",
    "    for s in [\"shortest\",\"shortestfastest\"]:\n",
    "        res_shrink[b][\"active\"][s] = []\n",
    "        res_shrink[b][\"passive\"][s] = []\n",
    "        for i in range(0,len(res[b][\"active\"][s])): \n",
    "            if not (res[b][\"active\"][s][i] == res[b][\"passive\"][s][i] and res[b][\"active\"][s][i] == 0):\n",
    "                res_shrink[b][\"active\"][s].append(res[b][\"active\"][s][i])\n",
    "                res_shrink[b][\"passive\"][s].append(res[b][\"passive\"][s][i])"
   ]
  },
  {
   "cell_type": "code",
   "execution_count": 228,
   "id": "cae45f86",
   "metadata": {},
   "outputs": [
    {
     "name": "stdout",
     "output_type": "stream",
     "text": [
      " & act sh vs. pas sh & act sf vs. pas sf & ex act sh vs. pas sh & ex act sf vs. pas sf \\\\\n",
      "/home/mehdi/Nextcloud/experiments/betweenness_discrete/primaryschool.csv& $0.82$ & $0.98$ & $0.75$ & $0.85$\\\\\n"
     ]
    }
   ],
   "source": [
    "#dfference tau active passive reduced\n",
    "print(\" & act sh vs. pas sh & act sf vs. pas sf & ex act sh vs. pas sh & ex act sf vs. pas sf \\\\\\\\\" ) \n",
    "import scipy.stats as stats\n",
    "tau, p_value = stats.kendalltau(res_shrink[\"bet\"][\"active\"][\"shortest\"], res_shrink[\"bet\"][\"passive\"][\"shortest\"])\n",
    "tau2, p_value = stats.kendalltau(res_shrink[\"bet\"][\"active\"][\"shortestfastest\"], res_shrink[\"bet\"][\"passive\"][\"shortestfastest\"])\n",
    "tau3, p_value = stats.kendalltau(res_shrink[\"bet_exact\"][\"active\"][\"shortest\"], res_shrink[\"bet_exact\"][\"passive\"][\"shortest\"])\n",
    "tau4, p_value = stats.kendalltau(res_shrink[\"bet_exact\"][\"active\"][\"shortestfastest\"], res_shrink[\"bet_exact\"][\"passive\"][\"shortestfastest\"])\n",
    "print(name+ \"& $\"+str(tau)[:4]+\"$ & $\"+str(tau2)[:4]+\"$ & $\"+str(tau3)[:4]+\"$ & $\"+str(tau4)[:4]+\"$\\\\\\\\\")\n"
   ]
  },
  {
   "cell_type": "code",
   "execution_count": null,
   "id": "8d7d1750",
   "metadata": {},
   "outputs": [],
   "source": []
  },
  {
   "cell_type": "code",
   "execution_count": null,
   "id": "3ed25676",
   "metadata": {},
   "outputs": [],
   "source": []
  }
 ],
 "metadata": {
  "kernelspec": {
   "display_name": "Python 3 (ipykernel)",
   "language": "python",
   "name": "python3"
  },
  "language_info": {
   "codemirror_mode": {
    "name": "ipython",
    "version": 3
   },
   "file_extension": ".py",
   "mimetype": "text/x-python",
   "name": "python",
   "nbconvert_exporter": "python",
   "pygments_lexer": "ipython3",
   "version": "3.10.6"
  }
 },
 "nbformat": 4,
 "nbformat_minor": 5
}
